{
 "cells": [
  {
   "cell_type": "code",
   "execution_count": 20,
   "metadata": {
    "id": "cNLIKTexpEuD"
   },
   "outputs": [],
   "source": [
    "import pandas as pd\n",
    "import numpy as np\n",
    "import matplotlib.pyplot as plt # data visualization\n",
    "import seaborn as sns # statistical data visualization\n",
    "%matplotlib inline\n",
    "\n",
    "\n",
    "import os\n",
    "import warnings\n",
    "\n",
    "warnings.filterwarnings('ignore')"
   ]
  },
  {
   "cell_type": "code",
   "execution_count": 301,
   "metadata": {},
   "outputs": [],
   "source": [
    "data=pd.read_csv('data\\Expresso_churn_dataset.csv')"
   ]
  },
  {
   "cell_type": "code",
   "execution_count": 307,
   "metadata": {},
   "outputs": [
    {
     "data": {
      "text/plain": [
       "REGION\n",
       "DAKAR          513271\n",
       "THIES          180052\n",
       "SAINT-LOUIS    119886\n",
       "LOUGA           99053\n",
       "KAOLACK         96986\n",
       "DIOURBEL        66911\n",
       "TAMBACOUNDA     55074\n",
       "KAFFRINE        43963\n",
       "KOLDA           38743\n",
       "FATICK          35643\n",
       "MATAM           29083\n",
       "ZIGUINCHOR      21945\n",
       "SEDHIOU          3119\n",
       "KEDOUGOU         1020\n",
       "Name: count, dtype: int64"
      ]
     },
     "execution_count": 307,
     "metadata": {},
     "output_type": "execute_result"
    }
   ],
   "source": [
    "data['REGION'].value_counts()"
   ]
  },
  {
   "cell_type": "code",
   "execution_count": 146,
   "metadata": {
    "id": "V4_AS4jGpT97"
   },
   "outputs": [],
   "source": [
    "df=pd.read_csv('data\\Expresso_churn_dataset.csv')"
   ]
  },
  {
   "cell_type": "code",
   "execution_count": 147,
   "metadata": {
    "id": "PI8iKCFfpW0s"
   },
   "outputs": [],
   "source": [
    "df.drop('user_id',axis=1, inplace=True)"
   ]
  },
  {
   "cell_type": "code",
   "execution_count": 148,
   "metadata": {
    "id": "uGAlVTEApaaU"
   },
   "outputs": [
    {
     "data": {
      "text/plain": [
       "REGION            39.428044\n",
       "TENURE             0.000000\n",
       "MONTANT           35.131018\n",
       "FREQUENCE_RECH    35.131018\n",
       "REVENUE           33.706213\n",
       "ARPU_SEGMENT      33.706213\n",
       "FREQUENCE         33.706213\n",
       "DATA_VOLUME       49.229776\n",
       "ON_NET            36.520774\n",
       "ORANGE            41.561191\n",
       "TIGO              59.887988\n",
       "ZONE1             92.120835\n",
       "ZONE2             93.648052\n",
       "MRG                0.000000\n",
       "REGULARITY         0.000000\n",
       "TOP_PACK          41.902223\n",
       "FREQ_TOP_PACK     41.902223\n",
       "CHURN              0.000000\n",
       "dtype: float64"
      ]
     },
     "execution_count": 148,
     "metadata": {},
     "output_type": "execute_result"
    }
   ],
   "source": [
    "(df.isnull().sum()/df.shape[0])*100"
   ]
  },
  {
   "cell_type": "code",
   "execution_count": 149,
   "metadata": {
    "id": "CHGsmoMJpdhj"
   },
   "outputs": [],
   "source": [
    "df.drop(['ZONE1','ZONE2'],axis=1,inplace=True)"
   ]
  },
  {
   "cell_type": "code",
   "execution_count": 150,
   "metadata": {
    "id": "wQvS0g4qpgsr"
   },
   "outputs": [],
   "source": [
    "df=df.dropna()\n",
    "df.drop('MRG',axis=1,inplace=True)"
   ]
  },
  {
   "cell_type": "code",
   "execution_count": 151,
   "metadata": {},
   "outputs": [
    {
     "data": {
      "text/plain": [
       "<bound method DataFrame.info of           REGION        TENURE  MONTANT  FREQUENCE_RECH  REVENUE  \\\n",
       "0         FATICK  K > 24 month   4250.0            15.0   4251.0   \n",
       "3          DAKAR  K > 24 month  13500.0            15.0  13502.0   \n",
       "7          DAKAR  K > 24 month   7000.0            16.0   7229.0   \n",
       "11       KAOLACK  K > 24 month  12650.0            27.0  11870.0   \n",
       "18         DAKAR  K > 24 month   7600.0            46.0   7875.0   \n",
       "...          ...           ...      ...             ...      ...   \n",
       "2154020    DAKAR  K > 24 month  11000.0            25.0  10882.0   \n",
       "2154023    LOUGA  K > 24 month   7250.0            25.0   7062.0   \n",
       "2154030    DAKAR  K > 24 month   5600.0            15.0   6035.0   \n",
       "2154037    THIES  K > 24 month    900.0             4.0    686.0   \n",
       "2154044    THIES  K > 24 month   6100.0            15.0   5800.0   \n",
       "\n",
       "         ARPU_SEGMENT  FREQUENCE  DATA_VOLUME  ON_NET  ORANGE   TIGO  \\\n",
       "0              1417.0       17.0          4.0   388.0    46.0    1.0   \n",
       "3              4501.0       18.0      43804.0    41.0   102.0    2.0   \n",
       "7              2410.0       22.0       1601.0    77.0    29.0  100.0   \n",
       "11             3957.0       36.0       8453.0   431.0    66.0    6.0   \n",
       "18             2625.0       57.0        901.0    10.0    60.0    7.0   \n",
       "...               ...        ...          ...     ...     ...    ...   \n",
       "2154020        3627.0       28.0      32955.0     2.0    88.0   22.0   \n",
       "2154023        2354.0       25.0        609.0  1524.0    87.0   13.0   \n",
       "2154030        2012.0       24.0       7388.0     1.0    41.0    2.0   \n",
       "2154037         229.0        5.0          0.0    72.0     7.0    1.0   \n",
       "2154044        1933.0       15.0        621.0    26.0    40.0   40.0   \n",
       "\n",
       "         REGULARITY                        TOP_PACK  FREQ_TOP_PACK  CHURN  \n",
       "0                54  On net 200F=Unlimited _call24H            8.0      0  \n",
       "3                62               Data:1000F=5GB,7d           11.0      0  \n",
       "7                55           All-net 500F=2000F;5d            8.0      0  \n",
       "11               62  On net 200F=Unlimited _call24H           11.0      0  \n",
       "18               62            Data: 100 F=40MB,24H           27.0      0  \n",
       "...             ...                             ...            ...    ...  \n",
       "2154020          48     Mixt 250F=Unlimited_call24H           19.0      0  \n",
       "2154023          52     Mixt 250F=Unlimited_call24H           10.0      0  \n",
       "2154030          38                Data:490F=1GB,7d            6.0      0  \n",
       "2154037          55  On net 200F=Unlimited _call24H            1.0      0  \n",
       "2154044          55           Data: 200 F=100MB,24H            9.0      0  \n",
       "\n",
       "[437435 rows x 15 columns]>"
      ]
     },
     "execution_count": 151,
     "metadata": {},
     "output_type": "execute_result"
    }
   ],
   "source": [
    "df.info"
   ]
  },
  {
   "cell_type": "code",
   "execution_count": 152,
   "metadata": {
    "id": "N6Z6poT0pw2d"
   },
   "outputs": [
    {
     "data": {
      "text/plain": [
       "TOP_PACK\n",
       "EVC_Jokko_Weekly                     1\n",
       "Go-NetPro-4 Go                       1\n",
       "EVC_700Mo                            1\n",
       "CVM_On-net 400f=2200F                1\n",
       "EVC_MEGA10000F                       1\n",
       "Data_EVC_2Go24H                      1\n",
       "1500=Unlimited7Day                   1\n",
       "EVC_1Go                              1\n",
       "APANews_weekly                       1\n",
       "NEW_CLIR_PERMANENT_LIBERTE_MOBILE    2\n",
       "CVM_500f=2GB                         2\n",
       "305155009                            2\n",
       "CVM_100f=200 MB                      2\n",
       "FNF_Youth_ESN                        2\n",
       "EVC_4900=12000F                      2\n",
       "CVM_100F_unlimited                   2\n",
       "VAS(IVR_Radio_Weekly)                3\n",
       "pack_chinguitel_24h                  3\n",
       "EVC_JOKKO30                          4\n",
       "Internat: 1000F_Zone_3;24h\\t\\t       6\n",
       "Name: count, dtype: int64"
      ]
     },
     "execution_count": 152,
     "metadata": {},
     "output_type": "execute_result"
    }
   ],
   "source": [
    "df['TOP_PACK'].value_counts().sort_values(ascending=True)[0:20]"
   ]
  },
  {
   "cell_type": "code",
   "execution_count": 153,
   "metadata": {
    "id": "1bo0R441pxlF"
   },
   "outputs": [],
   "source": [
    "value_counts=df['TOP_PACK'].value_counts()\n",
    "df = df[df['TOP_PACK'].isin(value_counts[value_counts > 100].index)]"
   ]
  },
  {
   "cell_type": "code",
   "execution_count": 154,
   "metadata": {
    "id": "37flaLDKp3HD"
   },
   "outputs": [],
   "source": [
    "from sklearn.preprocessing import LabelEncoder\n",
    "le = LabelEncoder()"
   ]
  },
  {
   "cell_type": "code",
   "execution_count": 155,
   "metadata": {},
   "outputs": [
    {
     "data": {
      "text/html": [
       "<style>#sk-container-id-6 {\n",
       "  /* Definition of color scheme common for light and dark mode */\n",
       "  --sklearn-color-text: black;\n",
       "  --sklearn-color-line: gray;\n",
       "  /* Definition of color scheme for unfitted estimators */\n",
       "  --sklearn-color-unfitted-level-0: #fff5e6;\n",
       "  --sklearn-color-unfitted-level-1: #f6e4d2;\n",
       "  --sklearn-color-unfitted-level-2: #ffe0b3;\n",
       "  --sklearn-color-unfitted-level-3: chocolate;\n",
       "  /* Definition of color scheme for fitted estimators */\n",
       "  --sklearn-color-fitted-level-0: #f0f8ff;\n",
       "  --sklearn-color-fitted-level-1: #d4ebff;\n",
       "  --sklearn-color-fitted-level-2: #b3dbfd;\n",
       "  --sklearn-color-fitted-level-3: cornflowerblue;\n",
       "\n",
       "  /* Specific color for light theme */\n",
       "  --sklearn-color-text-on-default-background: var(--sg-text-color, var(--theme-code-foreground, var(--jp-content-font-color1, black)));\n",
       "  --sklearn-color-background: var(--sg-background-color, var(--theme-background, var(--jp-layout-color0, white)));\n",
       "  --sklearn-color-border-box: var(--sg-text-color, var(--theme-code-foreground, var(--jp-content-font-color1, black)));\n",
       "  --sklearn-color-icon: #696969;\n",
       "\n",
       "  @media (prefers-color-scheme: dark) {\n",
       "    /* Redefinition of color scheme for dark theme */\n",
       "    --sklearn-color-text-on-default-background: var(--sg-text-color, var(--theme-code-foreground, var(--jp-content-font-color1, white)));\n",
       "    --sklearn-color-background: var(--sg-background-color, var(--theme-background, var(--jp-layout-color0, #111)));\n",
       "    --sklearn-color-border-box: var(--sg-text-color, var(--theme-code-foreground, var(--jp-content-font-color1, white)));\n",
       "    --sklearn-color-icon: #878787;\n",
       "  }\n",
       "}\n",
       "\n",
       "#sk-container-id-6 {\n",
       "  color: var(--sklearn-color-text);\n",
       "}\n",
       "\n",
       "#sk-container-id-6 pre {\n",
       "  padding: 0;\n",
       "}\n",
       "\n",
       "#sk-container-id-6 input.sk-hidden--visually {\n",
       "  border: 0;\n",
       "  clip: rect(1px 1px 1px 1px);\n",
       "  clip: rect(1px, 1px, 1px, 1px);\n",
       "  height: 1px;\n",
       "  margin: -1px;\n",
       "  overflow: hidden;\n",
       "  padding: 0;\n",
       "  position: absolute;\n",
       "  width: 1px;\n",
       "}\n",
       "\n",
       "#sk-container-id-6 div.sk-dashed-wrapped {\n",
       "  border: 1px dashed var(--sklearn-color-line);\n",
       "  margin: 0 0.4em 0.5em 0.4em;\n",
       "  box-sizing: border-box;\n",
       "  padding-bottom: 0.4em;\n",
       "  background-color: var(--sklearn-color-background);\n",
       "}\n",
       "\n",
       "#sk-container-id-6 div.sk-container {\n",
       "  /* jupyter's `normalize.less` sets `[hidden] { display: none; }`\n",
       "     but bootstrap.min.css set `[hidden] { display: none !important; }`\n",
       "     so we also need the `!important` here to be able to override the\n",
       "     default hidden behavior on the sphinx rendered scikit-learn.org.\n",
       "     See: https://github.com/scikit-learn/scikit-learn/issues/21755 */\n",
       "  display: inline-block !important;\n",
       "  position: relative;\n",
       "}\n",
       "\n",
       "#sk-container-id-6 div.sk-text-repr-fallback {\n",
       "  display: none;\n",
       "}\n",
       "\n",
       "div.sk-parallel-item,\n",
       "div.sk-serial,\n",
       "div.sk-item {\n",
       "  /* draw centered vertical line to link estimators */\n",
       "  background-image: linear-gradient(var(--sklearn-color-text-on-default-background), var(--sklearn-color-text-on-default-background));\n",
       "  background-size: 2px 100%;\n",
       "  background-repeat: no-repeat;\n",
       "  background-position: center center;\n",
       "}\n",
       "\n",
       "/* Parallel-specific style estimator block */\n",
       "\n",
       "#sk-container-id-6 div.sk-parallel-item::after {\n",
       "  content: \"\";\n",
       "  width: 100%;\n",
       "  border-bottom: 2px solid var(--sklearn-color-text-on-default-background);\n",
       "  flex-grow: 1;\n",
       "}\n",
       "\n",
       "#sk-container-id-6 div.sk-parallel {\n",
       "  display: flex;\n",
       "  align-items: stretch;\n",
       "  justify-content: center;\n",
       "  background-color: var(--sklearn-color-background);\n",
       "  position: relative;\n",
       "}\n",
       "\n",
       "#sk-container-id-6 div.sk-parallel-item {\n",
       "  display: flex;\n",
       "  flex-direction: column;\n",
       "}\n",
       "\n",
       "#sk-container-id-6 div.sk-parallel-item:first-child::after {\n",
       "  align-self: flex-end;\n",
       "  width: 50%;\n",
       "}\n",
       "\n",
       "#sk-container-id-6 div.sk-parallel-item:last-child::after {\n",
       "  align-self: flex-start;\n",
       "  width: 50%;\n",
       "}\n",
       "\n",
       "#sk-container-id-6 div.sk-parallel-item:only-child::after {\n",
       "  width: 0;\n",
       "}\n",
       "\n",
       "/* Serial-specific style estimator block */\n",
       "\n",
       "#sk-container-id-6 div.sk-serial {\n",
       "  display: flex;\n",
       "  flex-direction: column;\n",
       "  align-items: center;\n",
       "  background-color: var(--sklearn-color-background);\n",
       "  padding-right: 1em;\n",
       "  padding-left: 1em;\n",
       "}\n",
       "\n",
       "\n",
       "/* Toggleable style: style used for estimator/Pipeline/ColumnTransformer box that is\n",
       "clickable and can be expanded/collapsed.\n",
       "- Pipeline and ColumnTransformer use this feature and define the default style\n",
       "- Estimators will overwrite some part of the style using the `sk-estimator` class\n",
       "*/\n",
       "\n",
       "/* Pipeline and ColumnTransformer style (default) */\n",
       "\n",
       "#sk-container-id-6 div.sk-toggleable {\n",
       "  /* Default theme specific background. It is overwritten whether we have a\n",
       "  specific estimator or a Pipeline/ColumnTransformer */\n",
       "  background-color: var(--sklearn-color-background);\n",
       "}\n",
       "\n",
       "/* Toggleable label */\n",
       "#sk-container-id-6 label.sk-toggleable__label {\n",
       "  cursor: pointer;\n",
       "  display: block;\n",
       "  width: 100%;\n",
       "  margin-bottom: 0;\n",
       "  padding: 0.5em;\n",
       "  box-sizing: border-box;\n",
       "  text-align: center;\n",
       "}\n",
       "\n",
       "#sk-container-id-6 label.sk-toggleable__label-arrow:before {\n",
       "  /* Arrow on the left of the label */\n",
       "  content: \"▸\";\n",
       "  float: left;\n",
       "  margin-right: 0.25em;\n",
       "  color: var(--sklearn-color-icon);\n",
       "}\n",
       "\n",
       "#sk-container-id-6 label.sk-toggleable__label-arrow:hover:before {\n",
       "  color: var(--sklearn-color-text);\n",
       "}\n",
       "\n",
       "/* Toggleable content - dropdown */\n",
       "\n",
       "#sk-container-id-6 div.sk-toggleable__content {\n",
       "  max-height: 0;\n",
       "  max-width: 0;\n",
       "  overflow: hidden;\n",
       "  text-align: left;\n",
       "  /* unfitted */\n",
       "  background-color: var(--sklearn-color-unfitted-level-0);\n",
       "}\n",
       "\n",
       "#sk-container-id-6 div.sk-toggleable__content.fitted {\n",
       "  /* fitted */\n",
       "  background-color: var(--sklearn-color-fitted-level-0);\n",
       "}\n",
       "\n",
       "#sk-container-id-6 div.sk-toggleable__content pre {\n",
       "  margin: 0.2em;\n",
       "  border-radius: 0.25em;\n",
       "  color: var(--sklearn-color-text);\n",
       "  /* unfitted */\n",
       "  background-color: var(--sklearn-color-unfitted-level-0);\n",
       "}\n",
       "\n",
       "#sk-container-id-6 div.sk-toggleable__content.fitted pre {\n",
       "  /* unfitted */\n",
       "  background-color: var(--sklearn-color-fitted-level-0);\n",
       "}\n",
       "\n",
       "#sk-container-id-6 input.sk-toggleable__control:checked~div.sk-toggleable__content {\n",
       "  /* Expand drop-down */\n",
       "  max-height: 200px;\n",
       "  max-width: 100%;\n",
       "  overflow: auto;\n",
       "}\n",
       "\n",
       "#sk-container-id-6 input.sk-toggleable__control:checked~label.sk-toggleable__label-arrow:before {\n",
       "  content: \"▾\";\n",
       "}\n",
       "\n",
       "/* Pipeline/ColumnTransformer-specific style */\n",
       "\n",
       "#sk-container-id-6 div.sk-label input.sk-toggleable__control:checked~label.sk-toggleable__label {\n",
       "  color: var(--sklearn-color-text);\n",
       "  background-color: var(--sklearn-color-unfitted-level-2);\n",
       "}\n",
       "\n",
       "#sk-container-id-6 div.sk-label.fitted input.sk-toggleable__control:checked~label.sk-toggleable__label {\n",
       "  background-color: var(--sklearn-color-fitted-level-2);\n",
       "}\n",
       "\n",
       "/* Estimator-specific style */\n",
       "\n",
       "/* Colorize estimator box */\n",
       "#sk-container-id-6 div.sk-estimator input.sk-toggleable__control:checked~label.sk-toggleable__label {\n",
       "  /* unfitted */\n",
       "  background-color: var(--sklearn-color-unfitted-level-2);\n",
       "}\n",
       "\n",
       "#sk-container-id-6 div.sk-estimator.fitted input.sk-toggleable__control:checked~label.sk-toggleable__label {\n",
       "  /* fitted */\n",
       "  background-color: var(--sklearn-color-fitted-level-2);\n",
       "}\n",
       "\n",
       "#sk-container-id-6 div.sk-label label.sk-toggleable__label,\n",
       "#sk-container-id-6 div.sk-label label {\n",
       "  /* The background is the default theme color */\n",
       "  color: var(--sklearn-color-text-on-default-background);\n",
       "}\n",
       "\n",
       "/* On hover, darken the color of the background */\n",
       "#sk-container-id-6 div.sk-label:hover label.sk-toggleable__label {\n",
       "  color: var(--sklearn-color-text);\n",
       "  background-color: var(--sklearn-color-unfitted-level-2);\n",
       "}\n",
       "\n",
       "/* Label box, darken color on hover, fitted */\n",
       "#sk-container-id-6 div.sk-label.fitted:hover label.sk-toggleable__label.fitted {\n",
       "  color: var(--sklearn-color-text);\n",
       "  background-color: var(--sklearn-color-fitted-level-2);\n",
       "}\n",
       "\n",
       "/* Estimator label */\n",
       "\n",
       "#sk-container-id-6 div.sk-label label {\n",
       "  font-family: monospace;\n",
       "  font-weight: bold;\n",
       "  display: inline-block;\n",
       "  line-height: 1.2em;\n",
       "}\n",
       "\n",
       "#sk-container-id-6 div.sk-label-container {\n",
       "  text-align: center;\n",
       "}\n",
       "\n",
       "/* Estimator-specific */\n",
       "#sk-container-id-6 div.sk-estimator {\n",
       "  font-family: monospace;\n",
       "  border: 1px dotted var(--sklearn-color-border-box);\n",
       "  border-radius: 0.25em;\n",
       "  box-sizing: border-box;\n",
       "  margin-bottom: 0.5em;\n",
       "  /* unfitted */\n",
       "  background-color: var(--sklearn-color-unfitted-level-0);\n",
       "}\n",
       "\n",
       "#sk-container-id-6 div.sk-estimator.fitted {\n",
       "  /* fitted */\n",
       "  background-color: var(--sklearn-color-fitted-level-0);\n",
       "}\n",
       "\n",
       "/* on hover */\n",
       "#sk-container-id-6 div.sk-estimator:hover {\n",
       "  /* unfitted */\n",
       "  background-color: var(--sklearn-color-unfitted-level-2);\n",
       "}\n",
       "\n",
       "#sk-container-id-6 div.sk-estimator.fitted:hover {\n",
       "  /* fitted */\n",
       "  background-color: var(--sklearn-color-fitted-level-2);\n",
       "}\n",
       "\n",
       "/* Specification for estimator info (e.g. \"i\" and \"?\") */\n",
       "\n",
       "/* Common style for \"i\" and \"?\" */\n",
       "\n",
       ".sk-estimator-doc-link,\n",
       "a:link.sk-estimator-doc-link,\n",
       "a:visited.sk-estimator-doc-link {\n",
       "  float: right;\n",
       "  font-size: smaller;\n",
       "  line-height: 1em;\n",
       "  font-family: monospace;\n",
       "  background-color: var(--sklearn-color-background);\n",
       "  border-radius: 1em;\n",
       "  height: 1em;\n",
       "  width: 1em;\n",
       "  text-decoration: none !important;\n",
       "  margin-left: 1ex;\n",
       "  /* unfitted */\n",
       "  border: var(--sklearn-color-unfitted-level-1) 1pt solid;\n",
       "  color: var(--sklearn-color-unfitted-level-1);\n",
       "}\n",
       "\n",
       ".sk-estimator-doc-link.fitted,\n",
       "a:link.sk-estimator-doc-link.fitted,\n",
       "a:visited.sk-estimator-doc-link.fitted {\n",
       "  /* fitted */\n",
       "  border: var(--sklearn-color-fitted-level-1) 1pt solid;\n",
       "  color: var(--sklearn-color-fitted-level-1);\n",
       "}\n",
       "\n",
       "/* On hover */\n",
       "div.sk-estimator:hover .sk-estimator-doc-link:hover,\n",
       ".sk-estimator-doc-link:hover,\n",
       "div.sk-label-container:hover .sk-estimator-doc-link:hover,\n",
       ".sk-estimator-doc-link:hover {\n",
       "  /* unfitted */\n",
       "  background-color: var(--sklearn-color-unfitted-level-3);\n",
       "  color: var(--sklearn-color-background);\n",
       "  text-decoration: none;\n",
       "}\n",
       "\n",
       "div.sk-estimator.fitted:hover .sk-estimator-doc-link.fitted:hover,\n",
       ".sk-estimator-doc-link.fitted:hover,\n",
       "div.sk-label-container:hover .sk-estimator-doc-link.fitted:hover,\n",
       ".sk-estimator-doc-link.fitted:hover {\n",
       "  /* fitted */\n",
       "  background-color: var(--sklearn-color-fitted-level-3);\n",
       "  color: var(--sklearn-color-background);\n",
       "  text-decoration: none;\n",
       "}\n",
       "\n",
       "/* Span, style for the box shown on hovering the info icon */\n",
       ".sk-estimator-doc-link span {\n",
       "  display: none;\n",
       "  z-index: 9999;\n",
       "  position: relative;\n",
       "  font-weight: normal;\n",
       "  right: .2ex;\n",
       "  padding: .5ex;\n",
       "  margin: .5ex;\n",
       "  width: min-content;\n",
       "  min-width: 20ex;\n",
       "  max-width: 50ex;\n",
       "  color: var(--sklearn-color-text);\n",
       "  box-shadow: 2pt 2pt 4pt #999;\n",
       "  /* unfitted */\n",
       "  background: var(--sklearn-color-unfitted-level-0);\n",
       "  border: .5pt solid var(--sklearn-color-unfitted-level-3);\n",
       "}\n",
       "\n",
       ".sk-estimator-doc-link.fitted span {\n",
       "  /* fitted */\n",
       "  background: var(--sklearn-color-fitted-level-0);\n",
       "  border: var(--sklearn-color-fitted-level-3);\n",
       "}\n",
       "\n",
       ".sk-estimator-doc-link:hover span {\n",
       "  display: block;\n",
       "}\n",
       "\n",
       "/* \"?\"-specific style due to the `<a>` HTML tag */\n",
       "\n",
       "#sk-container-id-6 a.estimator_doc_link {\n",
       "  float: right;\n",
       "  font-size: 1rem;\n",
       "  line-height: 1em;\n",
       "  font-family: monospace;\n",
       "  background-color: var(--sklearn-color-background);\n",
       "  border-radius: 1rem;\n",
       "  height: 1rem;\n",
       "  width: 1rem;\n",
       "  text-decoration: none;\n",
       "  /* unfitted */\n",
       "  color: var(--sklearn-color-unfitted-level-1);\n",
       "  border: var(--sklearn-color-unfitted-level-1) 1pt solid;\n",
       "}\n",
       "\n",
       "#sk-container-id-6 a.estimator_doc_link.fitted {\n",
       "  /* fitted */\n",
       "  border: var(--sklearn-color-fitted-level-1) 1pt solid;\n",
       "  color: var(--sklearn-color-fitted-level-1);\n",
       "}\n",
       "\n",
       "/* On hover */\n",
       "#sk-container-id-6 a.estimator_doc_link:hover {\n",
       "  /* unfitted */\n",
       "  background-color: var(--sklearn-color-unfitted-level-3);\n",
       "  color: var(--sklearn-color-background);\n",
       "  text-decoration: none;\n",
       "}\n",
       "\n",
       "#sk-container-id-6 a.estimator_doc_link.fitted:hover {\n",
       "  /* fitted */\n",
       "  background-color: var(--sklearn-color-fitted-level-3);\n",
       "}\n",
       "</style><div id=\"sk-container-id-6\" class=\"sk-top-container\"><div class=\"sk-text-repr-fallback\"><pre>LabelEncoder()</pre><b>In a Jupyter environment, please rerun this cell to show the HTML representation or trust the notebook. <br />On GitHub, the HTML representation is unable to render, please try loading this page with nbviewer.org.</b></div><div class=\"sk-container\" hidden><div class=\"sk-item\"><div class=\"sk-estimator fitted sk-toggleable\"><input class=\"sk-toggleable__control sk-hidden--visually\" id=\"sk-estimator-id-6\" type=\"checkbox\" checked><label for=\"sk-estimator-id-6\" class=\"sk-toggleable__label fitted sk-toggleable__label-arrow fitted\">&nbsp;&nbsp;LabelEncoder<a class=\"sk-estimator-doc-link fitted\" rel=\"noreferrer\" target=\"_blank\" href=\"https://scikit-learn.org/1.5/modules/generated/sklearn.preprocessing.LabelEncoder.html\">?<span>Documentation for LabelEncoder</span></a><span class=\"sk-estimator-doc-link fitted\">i<span>Fitted</span></span></label><div class=\"sk-toggleable__content fitted\"><pre>LabelEncoder()</pre></div> </div></div></div></div>"
      ],
      "text/plain": [
       "LabelEncoder()"
      ]
     },
     "execution_count": 155,
     "metadata": {},
     "output_type": "execute_result"
    }
   ],
   "source": [
    "le.fit(df['TOP_PACK'])"
   ]
  },
  {
   "cell_type": "code",
   "execution_count": 156,
   "metadata": {},
   "outputs": [],
   "source": [
    "df['TOP_PACK']=le.transform(df['TOP_PACK'])"
   ]
  },
  {
   "cell_type": "code",
   "execution_count": 157,
   "metadata": {},
   "outputs": [
    {
     "data": {
      "text/plain": [
       "0          39\n",
       "3          13\n",
       "7           7\n",
       "11         39\n",
       "18         10\n",
       "           ..\n",
       "2154020    37\n",
       "2154023    37\n",
       "2154030    21\n",
       "2154037    39\n",
       "2154044    11\n",
       "Name: TOP_PACK, Length: 436372, dtype: int64"
      ]
     },
     "execution_count": 157,
     "metadata": {},
     "output_type": "execute_result"
    }
   ],
   "source": [
    "df['TOP_PACK']"
   ]
  },
  {
   "cell_type": "code",
   "execution_count": 158,
   "metadata": {},
   "outputs": [
    {
     "data": {
      "text/plain": [
       "array(['200=Unlimited1Day', 'All-net 1000=5000;5d',\n",
       "       'All-net 1000F=(3000F On+3000F Off);5d', 'All-net 300=600;2d',\n",
       "       'All-net 5000= 20000off+20000on;30d',\n",
       "       'All-net 500F =2000F_AllNet_Unlimited',\n",
       "       'All-net 500F=1250F_AllNet_1250_Onnet;48h',\n",
       "       'All-net 500F=2000F;5d', 'All-net 600F= 3000F ;5d',\n",
       "       'CVM_on-net bundle 500=5000', 'Data: 100 F=40MB,24H',\n",
       "       'Data: 200 F=100MB,24H', 'Data:1000F=2GB,30d', 'Data:1000F=5GB,7d',\n",
       "       'Data:1500F=3GB,30D', 'Data:1500F=SPPackage1,30d',\n",
       "       'Data:150F=SPPackage1,24H', 'Data:200F=Unlimited,24H',\n",
       "       'Data:3000F=10GB,30d', 'Data:300F=100MB,2d', 'Data:30Go_V 30_Days',\n",
       "       'Data:490F=1GB,7d', 'Data:500F=2GB,24H', 'Data:50F=30MB_24H',\n",
       "       'Data:700F=1.5GB,7d', 'Data:DailyCycle_Pilot_1.5GB',\n",
       "       'Facebook_MIX_2D', 'IVR Echat_Daily_50F', 'Jokko_Daily',\n",
       "       'Jokko_Monthly', 'Jokko_promo',\n",
       "       'MIXT: 200mnoff net _unl on net _5Go;30d',\n",
       "       'MIXT: 390F=04HOn-net_400SMS_400 Mo;4h\\t',\n",
       "       'MIXT: 590F=02H_On-net_200SMS_200 Mo;24h\\t\\t',\n",
       "       'MIXT:500F= 2500F on net _2500F off net;2d', 'MROMO_TIMWES_OneDAY',\n",
       "       'MROMO_TIMWES_RENEW', 'Mixt 250F=Unlimited_call24H',\n",
       "       'On net 200F= 3000F_10Mo ;24H', 'On net 200F=Unlimited _call24H',\n",
       "       'On-net 1000F=10MilF;10d', 'On-net 200F=60mn;1d',\n",
       "       'On-net 500=4000,10d', 'On-net 500F_FNF;3d', 'Pilot_Youth1_290',\n",
       "       'Pilot_Youth4_490', 'SUPERMAGIK_1000', 'SUPERMAGIK_5000',\n",
       "       'Twter_U2opia_Daily', 'Twter_U2opia_Weekly',\n",
       "       'VAS(IVR_Radio_Daily)', 'YMGX 100=1 hour FNF, 24H/1 month',\n",
       "       'Yewouleen_PKG'], dtype=object)"
      ]
     },
     "execution_count": 158,
     "metadata": {},
     "output_type": "execute_result"
    }
   ],
   "source": [
    "le.classes_"
   ]
  },
  {
   "cell_type": "code",
   "execution_count": 159,
   "metadata": {},
   "outputs": [
    {
     "data": {
      "text/plain": [
       "REGION\n",
       "DAKAR          204222\n",
       "THIES           66853\n",
       "KAOLACK         33990\n",
       "SAINT-LOUIS     33441\n",
       "LOUGA           29261\n",
       "DIOURBEL        18468\n",
       "KAFFRINE        11926\n",
       "TAMBACOUNDA     10889\n",
       "FATICK          10750\n",
       "KOLDA            6740\n",
       "ZIGUINCHOR       5742\n",
       "MATAM            3248\n",
       "SEDHIOU           631\n",
       "KEDOUGOU          211\n",
       "Name: count, dtype: int64"
      ]
     },
     "execution_count": 159,
     "metadata": {},
     "output_type": "execute_result"
    }
   ],
   "source": [
    "df['REGION'].value_counts()"
   ]
  },
  {
   "cell_type": "code",
   "execution_count": 160,
   "metadata": {},
   "outputs": [],
   "source": [
    "from sklearn.preprocessing import OneHotEncoder"
   ]
  },
  {
   "cell_type": "code",
   "execution_count": 161,
   "metadata": {},
   "outputs": [],
   "source": [
    "Ohe=OneHotEncoder(sparse_output=True)"
   ]
  },
  {
   "cell_type": "code",
   "execution_count": 162,
   "metadata": {},
   "outputs": [],
   "source": [
    "df0=Ohe.fit_transform(df[['REGION']])"
   ]
  },
  {
   "cell_type": "code",
   "execution_count": 163,
   "metadata": {},
   "outputs": [
    {
     "data": {
      "text/plain": [
       "<Compressed Sparse Row sparse matrix of dtype 'float64'\n",
       "\twith 436372 stored elements and shape (436372, 14)>"
      ]
     },
     "execution_count": 163,
     "metadata": {},
     "output_type": "execute_result"
    }
   ],
   "source": [
    "df0"
   ]
  },
  {
   "cell_type": "code",
   "execution_count": 164,
   "metadata": {},
   "outputs": [],
   "source": [
    "df1 = pd.DataFrame(df0.toarray(), columns=Ohe.get_feature_names_out(['REGION']))"
   ]
  },
  {
   "cell_type": "code",
   "execution_count": 165,
   "metadata": {},
   "outputs": [
    {
     "data": {
      "text/plain": [
       "(436372, 14)"
      ]
     },
     "execution_count": 165,
     "metadata": {},
     "output_type": "execute_result"
    }
   ],
   "source": [
    "df1.shape"
   ]
  },
  {
   "cell_type": "code",
   "execution_count": 166,
   "metadata": {},
   "outputs": [
    {
     "data": {
      "text/html": [
       "<div>\n",
       "<style scoped>\n",
       "    .dataframe tbody tr th:only-of-type {\n",
       "        vertical-align: middle;\n",
       "    }\n",
       "\n",
       "    .dataframe tbody tr th {\n",
       "        vertical-align: top;\n",
       "    }\n",
       "\n",
       "    .dataframe thead th {\n",
       "        text-align: right;\n",
       "    }\n",
       "</style>\n",
       "<table border=\"1\" class=\"dataframe\">\n",
       "  <thead>\n",
       "    <tr style=\"text-align: right;\">\n",
       "      <th></th>\n",
       "      <th>REGION_DAKAR</th>\n",
       "      <th>REGION_DIOURBEL</th>\n",
       "      <th>REGION_FATICK</th>\n",
       "      <th>REGION_KAFFRINE</th>\n",
       "      <th>REGION_KAOLACK</th>\n",
       "      <th>REGION_KEDOUGOU</th>\n",
       "      <th>REGION_KOLDA</th>\n",
       "      <th>REGION_LOUGA</th>\n",
       "      <th>REGION_MATAM</th>\n",
       "      <th>REGION_SAINT-LOUIS</th>\n",
       "      <th>REGION_SEDHIOU</th>\n",
       "      <th>REGION_TAMBACOUNDA</th>\n",
       "      <th>REGION_THIES</th>\n",
       "      <th>REGION_ZIGUINCHOR</th>\n",
       "    </tr>\n",
       "  </thead>\n",
       "  <tbody>\n",
       "    <tr>\n",
       "      <th>0</th>\n",
       "      <td>0.0</td>\n",
       "      <td>0.0</td>\n",
       "      <td>1.0</td>\n",
       "      <td>0.0</td>\n",
       "      <td>0.0</td>\n",
       "      <td>0.0</td>\n",
       "      <td>0.0</td>\n",
       "      <td>0.0</td>\n",
       "      <td>0.0</td>\n",
       "      <td>0.0</td>\n",
       "      <td>0.0</td>\n",
       "      <td>0.0</td>\n",
       "      <td>0.0</td>\n",
       "      <td>0.0</td>\n",
       "    </tr>\n",
       "    <tr>\n",
       "      <th>1</th>\n",
       "      <td>1.0</td>\n",
       "      <td>0.0</td>\n",
       "      <td>0.0</td>\n",
       "      <td>0.0</td>\n",
       "      <td>0.0</td>\n",
       "      <td>0.0</td>\n",
       "      <td>0.0</td>\n",
       "      <td>0.0</td>\n",
       "      <td>0.0</td>\n",
       "      <td>0.0</td>\n",
       "      <td>0.0</td>\n",
       "      <td>0.0</td>\n",
       "      <td>0.0</td>\n",
       "      <td>0.0</td>\n",
       "    </tr>\n",
       "    <tr>\n",
       "      <th>2</th>\n",
       "      <td>1.0</td>\n",
       "      <td>0.0</td>\n",
       "      <td>0.0</td>\n",
       "      <td>0.0</td>\n",
       "      <td>0.0</td>\n",
       "      <td>0.0</td>\n",
       "      <td>0.0</td>\n",
       "      <td>0.0</td>\n",
       "      <td>0.0</td>\n",
       "      <td>0.0</td>\n",
       "      <td>0.0</td>\n",
       "      <td>0.0</td>\n",
       "      <td>0.0</td>\n",
       "      <td>0.0</td>\n",
       "    </tr>\n",
       "    <tr>\n",
       "      <th>3</th>\n",
       "      <td>0.0</td>\n",
       "      <td>0.0</td>\n",
       "      <td>0.0</td>\n",
       "      <td>0.0</td>\n",
       "      <td>1.0</td>\n",
       "      <td>0.0</td>\n",
       "      <td>0.0</td>\n",
       "      <td>0.0</td>\n",
       "      <td>0.0</td>\n",
       "      <td>0.0</td>\n",
       "      <td>0.0</td>\n",
       "      <td>0.0</td>\n",
       "      <td>0.0</td>\n",
       "      <td>0.0</td>\n",
       "    </tr>\n",
       "    <tr>\n",
       "      <th>4</th>\n",
       "      <td>1.0</td>\n",
       "      <td>0.0</td>\n",
       "      <td>0.0</td>\n",
       "      <td>0.0</td>\n",
       "      <td>0.0</td>\n",
       "      <td>0.0</td>\n",
       "      <td>0.0</td>\n",
       "      <td>0.0</td>\n",
       "      <td>0.0</td>\n",
       "      <td>0.0</td>\n",
       "      <td>0.0</td>\n",
       "      <td>0.0</td>\n",
       "      <td>0.0</td>\n",
       "      <td>0.0</td>\n",
       "    </tr>\n",
       "  </tbody>\n",
       "</table>\n",
       "</div>"
      ],
      "text/plain": [
       "   REGION_DAKAR  REGION_DIOURBEL  REGION_FATICK  REGION_KAFFRINE  \\\n",
       "0           0.0              0.0            1.0              0.0   \n",
       "1           1.0              0.0            0.0              0.0   \n",
       "2           1.0              0.0            0.0              0.0   \n",
       "3           0.0              0.0            0.0              0.0   \n",
       "4           1.0              0.0            0.0              0.0   \n",
       "\n",
       "   REGION_KAOLACK  REGION_KEDOUGOU  REGION_KOLDA  REGION_LOUGA  REGION_MATAM  \\\n",
       "0             0.0              0.0           0.0           0.0           0.0   \n",
       "1             0.0              0.0           0.0           0.0           0.0   \n",
       "2             0.0              0.0           0.0           0.0           0.0   \n",
       "3             1.0              0.0           0.0           0.0           0.0   \n",
       "4             0.0              0.0           0.0           0.0           0.0   \n",
       "\n",
       "   REGION_SAINT-LOUIS  REGION_SEDHIOU  REGION_TAMBACOUNDA  REGION_THIES  \\\n",
       "0                 0.0             0.0                 0.0           0.0   \n",
       "1                 0.0             0.0                 0.0           0.0   \n",
       "2                 0.0             0.0                 0.0           0.0   \n",
       "3                 0.0             0.0                 0.0           0.0   \n",
       "4                 0.0             0.0                 0.0           0.0   \n",
       "\n",
       "   REGION_ZIGUINCHOR  \n",
       "0                0.0  \n",
       "1                0.0  \n",
       "2                0.0  \n",
       "3                0.0  \n",
       "4                0.0  "
      ]
     },
     "execution_count": 166,
     "metadata": {},
     "output_type": "execute_result"
    }
   ],
   "source": [
    "df1.head()"
   ]
  },
  {
   "cell_type": "code",
   "execution_count": 167,
   "metadata": {},
   "outputs": [
    {
     "data": {
      "text/plain": [
       "(436372, 15)"
      ]
     },
     "execution_count": 167,
     "metadata": {},
     "output_type": "execute_result"
    }
   ],
   "source": [
    "df.shape"
   ]
  },
  {
   "cell_type": "code",
   "execution_count": 168,
   "metadata": {},
   "outputs": [],
   "source": [
    "df1=df1.reset_index()"
   ]
  },
  {
   "cell_type": "code",
   "execution_count": 169,
   "metadata": {},
   "outputs": [],
   "source": [
    "df=df.reset_index()"
   ]
  },
  {
   "cell_type": "code",
   "execution_count": 170,
   "metadata": {},
   "outputs": [],
   "source": [
    "df=pd.concat([df, df1],axis=1)"
   ]
  },
  {
   "cell_type": "code",
   "execution_count": 171,
   "metadata": {},
   "outputs": [
    {
     "data": {
      "text/html": [
       "<div>\n",
       "<style scoped>\n",
       "    .dataframe tbody tr th:only-of-type {\n",
       "        vertical-align: middle;\n",
       "    }\n",
       "\n",
       "    .dataframe tbody tr th {\n",
       "        vertical-align: top;\n",
       "    }\n",
       "\n",
       "    .dataframe thead th {\n",
       "        text-align: right;\n",
       "    }\n",
       "</style>\n",
       "<table border=\"1\" class=\"dataframe\">\n",
       "  <thead>\n",
       "    <tr style=\"text-align: right;\">\n",
       "      <th></th>\n",
       "      <th>index</th>\n",
       "      <th>REGION</th>\n",
       "      <th>TENURE</th>\n",
       "      <th>MONTANT</th>\n",
       "      <th>FREQUENCE_RECH</th>\n",
       "      <th>REVENUE</th>\n",
       "      <th>ARPU_SEGMENT</th>\n",
       "      <th>FREQUENCE</th>\n",
       "      <th>DATA_VOLUME</th>\n",
       "      <th>ON_NET</th>\n",
       "      <th>...</th>\n",
       "      <th>REGION_KAOLACK</th>\n",
       "      <th>REGION_KEDOUGOU</th>\n",
       "      <th>REGION_KOLDA</th>\n",
       "      <th>REGION_LOUGA</th>\n",
       "      <th>REGION_MATAM</th>\n",
       "      <th>REGION_SAINT-LOUIS</th>\n",
       "      <th>REGION_SEDHIOU</th>\n",
       "      <th>REGION_TAMBACOUNDA</th>\n",
       "      <th>REGION_THIES</th>\n",
       "      <th>REGION_ZIGUINCHOR</th>\n",
       "    </tr>\n",
       "  </thead>\n",
       "  <tbody>\n",
       "    <tr>\n",
       "      <th>0</th>\n",
       "      <td>0</td>\n",
       "      <td>FATICK</td>\n",
       "      <td>K &gt; 24 month</td>\n",
       "      <td>4250.0</td>\n",
       "      <td>15.0</td>\n",
       "      <td>4251.0</td>\n",
       "      <td>1417.0</td>\n",
       "      <td>17.0</td>\n",
       "      <td>4.0</td>\n",
       "      <td>388.0</td>\n",
       "      <td>...</td>\n",
       "      <td>0.0</td>\n",
       "      <td>0.0</td>\n",
       "      <td>0.0</td>\n",
       "      <td>0.0</td>\n",
       "      <td>0.0</td>\n",
       "      <td>0.0</td>\n",
       "      <td>0.0</td>\n",
       "      <td>0.0</td>\n",
       "      <td>0.0</td>\n",
       "      <td>0.0</td>\n",
       "    </tr>\n",
       "    <tr>\n",
       "      <th>1</th>\n",
       "      <td>3</td>\n",
       "      <td>DAKAR</td>\n",
       "      <td>K &gt; 24 month</td>\n",
       "      <td>13500.0</td>\n",
       "      <td>15.0</td>\n",
       "      <td>13502.0</td>\n",
       "      <td>4501.0</td>\n",
       "      <td>18.0</td>\n",
       "      <td>43804.0</td>\n",
       "      <td>41.0</td>\n",
       "      <td>...</td>\n",
       "      <td>0.0</td>\n",
       "      <td>0.0</td>\n",
       "      <td>0.0</td>\n",
       "      <td>0.0</td>\n",
       "      <td>0.0</td>\n",
       "      <td>0.0</td>\n",
       "      <td>0.0</td>\n",
       "      <td>0.0</td>\n",
       "      <td>0.0</td>\n",
       "      <td>0.0</td>\n",
       "    </tr>\n",
       "    <tr>\n",
       "      <th>2</th>\n",
       "      <td>7</td>\n",
       "      <td>DAKAR</td>\n",
       "      <td>K &gt; 24 month</td>\n",
       "      <td>7000.0</td>\n",
       "      <td>16.0</td>\n",
       "      <td>7229.0</td>\n",
       "      <td>2410.0</td>\n",
       "      <td>22.0</td>\n",
       "      <td>1601.0</td>\n",
       "      <td>77.0</td>\n",
       "      <td>...</td>\n",
       "      <td>0.0</td>\n",
       "      <td>0.0</td>\n",
       "      <td>0.0</td>\n",
       "      <td>0.0</td>\n",
       "      <td>0.0</td>\n",
       "      <td>0.0</td>\n",
       "      <td>0.0</td>\n",
       "      <td>0.0</td>\n",
       "      <td>0.0</td>\n",
       "      <td>0.0</td>\n",
       "    </tr>\n",
       "    <tr>\n",
       "      <th>3</th>\n",
       "      <td>11</td>\n",
       "      <td>KAOLACK</td>\n",
       "      <td>K &gt; 24 month</td>\n",
       "      <td>12650.0</td>\n",
       "      <td>27.0</td>\n",
       "      <td>11870.0</td>\n",
       "      <td>3957.0</td>\n",
       "      <td>36.0</td>\n",
       "      <td>8453.0</td>\n",
       "      <td>431.0</td>\n",
       "      <td>...</td>\n",
       "      <td>1.0</td>\n",
       "      <td>0.0</td>\n",
       "      <td>0.0</td>\n",
       "      <td>0.0</td>\n",
       "      <td>0.0</td>\n",
       "      <td>0.0</td>\n",
       "      <td>0.0</td>\n",
       "      <td>0.0</td>\n",
       "      <td>0.0</td>\n",
       "      <td>0.0</td>\n",
       "    </tr>\n",
       "    <tr>\n",
       "      <th>4</th>\n",
       "      <td>18</td>\n",
       "      <td>DAKAR</td>\n",
       "      <td>K &gt; 24 month</td>\n",
       "      <td>7600.0</td>\n",
       "      <td>46.0</td>\n",
       "      <td>7875.0</td>\n",
       "      <td>2625.0</td>\n",
       "      <td>57.0</td>\n",
       "      <td>901.0</td>\n",
       "      <td>10.0</td>\n",
       "      <td>...</td>\n",
       "      <td>0.0</td>\n",
       "      <td>0.0</td>\n",
       "      <td>0.0</td>\n",
       "      <td>0.0</td>\n",
       "      <td>0.0</td>\n",
       "      <td>0.0</td>\n",
       "      <td>0.0</td>\n",
       "      <td>0.0</td>\n",
       "      <td>0.0</td>\n",
       "      <td>0.0</td>\n",
       "    </tr>\n",
       "    <tr>\n",
       "      <th>...</th>\n",
       "      <td>...</td>\n",
       "      <td>...</td>\n",
       "      <td>...</td>\n",
       "      <td>...</td>\n",
       "      <td>...</td>\n",
       "      <td>...</td>\n",
       "      <td>...</td>\n",
       "      <td>...</td>\n",
       "      <td>...</td>\n",
       "      <td>...</td>\n",
       "      <td>...</td>\n",
       "      <td>...</td>\n",
       "      <td>...</td>\n",
       "      <td>...</td>\n",
       "      <td>...</td>\n",
       "      <td>...</td>\n",
       "      <td>...</td>\n",
       "      <td>...</td>\n",
       "      <td>...</td>\n",
       "      <td>...</td>\n",
       "      <td>...</td>\n",
       "    </tr>\n",
       "    <tr>\n",
       "      <th>436367</th>\n",
       "      <td>2154020</td>\n",
       "      <td>DAKAR</td>\n",
       "      <td>K &gt; 24 month</td>\n",
       "      <td>11000.0</td>\n",
       "      <td>25.0</td>\n",
       "      <td>10882.0</td>\n",
       "      <td>3627.0</td>\n",
       "      <td>28.0</td>\n",
       "      <td>32955.0</td>\n",
       "      <td>2.0</td>\n",
       "      <td>...</td>\n",
       "      <td>0.0</td>\n",
       "      <td>0.0</td>\n",
       "      <td>0.0</td>\n",
       "      <td>0.0</td>\n",
       "      <td>0.0</td>\n",
       "      <td>0.0</td>\n",
       "      <td>0.0</td>\n",
       "      <td>0.0</td>\n",
       "      <td>0.0</td>\n",
       "      <td>0.0</td>\n",
       "    </tr>\n",
       "    <tr>\n",
       "      <th>436368</th>\n",
       "      <td>2154023</td>\n",
       "      <td>LOUGA</td>\n",
       "      <td>K &gt; 24 month</td>\n",
       "      <td>7250.0</td>\n",
       "      <td>25.0</td>\n",
       "      <td>7062.0</td>\n",
       "      <td>2354.0</td>\n",
       "      <td>25.0</td>\n",
       "      <td>609.0</td>\n",
       "      <td>1524.0</td>\n",
       "      <td>...</td>\n",
       "      <td>0.0</td>\n",
       "      <td>0.0</td>\n",
       "      <td>0.0</td>\n",
       "      <td>1.0</td>\n",
       "      <td>0.0</td>\n",
       "      <td>0.0</td>\n",
       "      <td>0.0</td>\n",
       "      <td>0.0</td>\n",
       "      <td>0.0</td>\n",
       "      <td>0.0</td>\n",
       "    </tr>\n",
       "    <tr>\n",
       "      <th>436369</th>\n",
       "      <td>2154030</td>\n",
       "      <td>DAKAR</td>\n",
       "      <td>K &gt; 24 month</td>\n",
       "      <td>5600.0</td>\n",
       "      <td>15.0</td>\n",
       "      <td>6035.0</td>\n",
       "      <td>2012.0</td>\n",
       "      <td>24.0</td>\n",
       "      <td>7388.0</td>\n",
       "      <td>1.0</td>\n",
       "      <td>...</td>\n",
       "      <td>0.0</td>\n",
       "      <td>0.0</td>\n",
       "      <td>0.0</td>\n",
       "      <td>0.0</td>\n",
       "      <td>0.0</td>\n",
       "      <td>0.0</td>\n",
       "      <td>0.0</td>\n",
       "      <td>0.0</td>\n",
       "      <td>0.0</td>\n",
       "      <td>0.0</td>\n",
       "    </tr>\n",
       "    <tr>\n",
       "      <th>436370</th>\n",
       "      <td>2154037</td>\n",
       "      <td>THIES</td>\n",
       "      <td>K &gt; 24 month</td>\n",
       "      <td>900.0</td>\n",
       "      <td>4.0</td>\n",
       "      <td>686.0</td>\n",
       "      <td>229.0</td>\n",
       "      <td>5.0</td>\n",
       "      <td>0.0</td>\n",
       "      <td>72.0</td>\n",
       "      <td>...</td>\n",
       "      <td>0.0</td>\n",
       "      <td>0.0</td>\n",
       "      <td>0.0</td>\n",
       "      <td>0.0</td>\n",
       "      <td>0.0</td>\n",
       "      <td>0.0</td>\n",
       "      <td>0.0</td>\n",
       "      <td>0.0</td>\n",
       "      <td>1.0</td>\n",
       "      <td>0.0</td>\n",
       "    </tr>\n",
       "    <tr>\n",
       "      <th>436371</th>\n",
       "      <td>2154044</td>\n",
       "      <td>THIES</td>\n",
       "      <td>K &gt; 24 month</td>\n",
       "      <td>6100.0</td>\n",
       "      <td>15.0</td>\n",
       "      <td>5800.0</td>\n",
       "      <td>1933.0</td>\n",
       "      <td>15.0</td>\n",
       "      <td>621.0</td>\n",
       "      <td>26.0</td>\n",
       "      <td>...</td>\n",
       "      <td>0.0</td>\n",
       "      <td>0.0</td>\n",
       "      <td>0.0</td>\n",
       "      <td>0.0</td>\n",
       "      <td>0.0</td>\n",
       "      <td>0.0</td>\n",
       "      <td>0.0</td>\n",
       "      <td>0.0</td>\n",
       "      <td>1.0</td>\n",
       "      <td>0.0</td>\n",
       "    </tr>\n",
       "  </tbody>\n",
       "</table>\n",
       "<p>436372 rows × 31 columns</p>\n",
       "</div>"
      ],
      "text/plain": [
       "          index   REGION        TENURE  MONTANT  FREQUENCE_RECH  REVENUE  \\\n",
       "0             0   FATICK  K > 24 month   4250.0            15.0   4251.0   \n",
       "1             3    DAKAR  K > 24 month  13500.0            15.0  13502.0   \n",
       "2             7    DAKAR  K > 24 month   7000.0            16.0   7229.0   \n",
       "3            11  KAOLACK  K > 24 month  12650.0            27.0  11870.0   \n",
       "4            18    DAKAR  K > 24 month   7600.0            46.0   7875.0   \n",
       "...         ...      ...           ...      ...             ...      ...   \n",
       "436367  2154020    DAKAR  K > 24 month  11000.0            25.0  10882.0   \n",
       "436368  2154023    LOUGA  K > 24 month   7250.0            25.0   7062.0   \n",
       "436369  2154030    DAKAR  K > 24 month   5600.0            15.0   6035.0   \n",
       "436370  2154037    THIES  K > 24 month    900.0             4.0    686.0   \n",
       "436371  2154044    THIES  K > 24 month   6100.0            15.0   5800.0   \n",
       "\n",
       "        ARPU_SEGMENT  FREQUENCE  DATA_VOLUME  ON_NET  ...  REGION_KAOLACK  \\\n",
       "0             1417.0       17.0          4.0   388.0  ...             0.0   \n",
       "1             4501.0       18.0      43804.0    41.0  ...             0.0   \n",
       "2             2410.0       22.0       1601.0    77.0  ...             0.0   \n",
       "3             3957.0       36.0       8453.0   431.0  ...             1.0   \n",
       "4             2625.0       57.0        901.0    10.0  ...             0.0   \n",
       "...              ...        ...          ...     ...  ...             ...   \n",
       "436367        3627.0       28.0      32955.0     2.0  ...             0.0   \n",
       "436368        2354.0       25.0        609.0  1524.0  ...             0.0   \n",
       "436369        2012.0       24.0       7388.0     1.0  ...             0.0   \n",
       "436370         229.0        5.0          0.0    72.0  ...             0.0   \n",
       "436371        1933.0       15.0        621.0    26.0  ...             0.0   \n",
       "\n",
       "        REGION_KEDOUGOU  REGION_KOLDA  REGION_LOUGA  REGION_MATAM  \\\n",
       "0                   0.0           0.0           0.0           0.0   \n",
       "1                   0.0           0.0           0.0           0.0   \n",
       "2                   0.0           0.0           0.0           0.0   \n",
       "3                   0.0           0.0           0.0           0.0   \n",
       "4                   0.0           0.0           0.0           0.0   \n",
       "...                 ...           ...           ...           ...   \n",
       "436367              0.0           0.0           0.0           0.0   \n",
       "436368              0.0           0.0           1.0           0.0   \n",
       "436369              0.0           0.0           0.0           0.0   \n",
       "436370              0.0           0.0           0.0           0.0   \n",
       "436371              0.0           0.0           0.0           0.0   \n",
       "\n",
       "        REGION_SAINT-LOUIS  REGION_SEDHIOU  REGION_TAMBACOUNDA  REGION_THIES  \\\n",
       "0                      0.0             0.0                 0.0           0.0   \n",
       "1                      0.0             0.0                 0.0           0.0   \n",
       "2                      0.0             0.0                 0.0           0.0   \n",
       "3                      0.0             0.0                 0.0           0.0   \n",
       "4                      0.0             0.0                 0.0           0.0   \n",
       "...                    ...             ...                 ...           ...   \n",
       "436367                 0.0             0.0                 0.0           0.0   \n",
       "436368                 0.0             0.0                 0.0           0.0   \n",
       "436369                 0.0             0.0                 0.0           0.0   \n",
       "436370                 0.0             0.0                 0.0           1.0   \n",
       "436371                 0.0             0.0                 0.0           1.0   \n",
       "\n",
       "        REGION_ZIGUINCHOR  \n",
       "0                     0.0  \n",
       "1                     0.0  \n",
       "2                     0.0  \n",
       "3                     0.0  \n",
       "4                     0.0  \n",
       "...                   ...  \n",
       "436367                0.0  \n",
       "436368                0.0  \n",
       "436369                0.0  \n",
       "436370                0.0  \n",
       "436371                0.0  \n",
       "\n",
       "[436372 rows x 31 columns]"
      ]
     },
     "execution_count": 171,
     "metadata": {},
     "output_type": "execute_result"
    }
   ],
   "source": [
    "df"
   ]
  },
  {
   "cell_type": "code",
   "execution_count": 172,
   "metadata": {},
   "outputs": [
    {
     "data": {
      "text/plain": [
       "Index(['index', 'REGION', 'TENURE', 'MONTANT', 'FREQUENCE_RECH', 'REVENUE',\n",
       "       'ARPU_SEGMENT', 'FREQUENCE', 'DATA_VOLUME', 'ON_NET', 'ORANGE', 'TIGO',\n",
       "       'REGULARITY', 'TOP_PACK', 'FREQ_TOP_PACK', 'CHURN', 'index',\n",
       "       'REGION_DAKAR', 'REGION_DIOURBEL', 'REGION_FATICK', 'REGION_KAFFRINE',\n",
       "       'REGION_KAOLACK', 'REGION_KEDOUGOU', 'REGION_KOLDA', 'REGION_LOUGA',\n",
       "       'REGION_MATAM', 'REGION_SAINT-LOUIS', 'REGION_SEDHIOU',\n",
       "       'REGION_TAMBACOUNDA', 'REGION_THIES', 'REGION_ZIGUINCHOR'],\n",
       "      dtype='object')"
      ]
     },
     "execution_count": 172,
     "metadata": {},
     "output_type": "execute_result"
    }
   ],
   "source": [
    "df.columns"
   ]
  },
  {
   "cell_type": "code",
   "execution_count": 173,
   "metadata": {},
   "outputs": [
    {
     "data": {
      "text/plain": [
       "TENURE\n",
       "K > 24 month     417905\n",
       "I 18-21 month      7426\n",
       "H 15-18 month      4225\n",
       "J 21-24 month      2511\n",
       "G 12-15 month      2262\n",
       "F 9-12 month       1628\n",
       "E 6-9 month         329\n",
       "D 3-6 month          86\n",
       "Name: count, dtype: int64"
      ]
     },
     "execution_count": 173,
     "metadata": {},
     "output_type": "execute_result"
    }
   ],
   "source": [
    "df['TENURE'].value_counts()"
   ]
  },
  {
   "cell_type": "code",
   "execution_count": 174,
   "metadata": {},
   "outputs": [],
   "source": [
    "le2=LabelEncoder()\n",
    "le2.fit(df['TENURE'])\n",
    "df['TENURE']=le2.transform(df['TENURE'])"
   ]
  },
  {
   "cell_type": "code",
   "execution_count": 300,
   "metadata": {},
   "outputs": [
    {
     "data": {
      "text/plain": [
       "array(['D 3-6 month', 'E 6-9 month', 'F 9-12 month', 'G 12-15 month',\n",
       "       'H 15-18 month', 'I 18-21 month', 'J 21-24 month', 'K > 24 month'],\n",
       "      dtype=object)"
      ]
     },
     "execution_count": 300,
     "metadata": {},
     "output_type": "execute_result"
    }
   ],
   "source": [
    "le2.classes_"
   ]
  },
  {
   "cell_type": "code",
   "execution_count": 175,
   "metadata": {},
   "outputs": [
    {
     "data": {
      "text/plain": [
       "0         7\n",
       "1         7\n",
       "2         7\n",
       "3         7\n",
       "4         7\n",
       "         ..\n",
       "436367    7\n",
       "436368    7\n",
       "436369    7\n",
       "436370    7\n",
       "436371    7\n",
       "Name: TENURE, Length: 436372, dtype: int64"
      ]
     },
     "execution_count": 175,
     "metadata": {},
     "output_type": "execute_result"
    }
   ],
   "source": [
    "df['TENURE']"
   ]
  },
  {
   "cell_type": "code",
   "execution_count": 176,
   "metadata": {
    "scrolled": true
   },
   "outputs": [
    {
     "data": {
      "text/html": [
       "<div>\n",
       "<style scoped>\n",
       "    .dataframe tbody tr th:only-of-type {\n",
       "        vertical-align: middle;\n",
       "    }\n",
       "\n",
       "    .dataframe tbody tr th {\n",
       "        vertical-align: top;\n",
       "    }\n",
       "\n",
       "    .dataframe thead th {\n",
       "        text-align: right;\n",
       "    }\n",
       "</style>\n",
       "<table border=\"1\" class=\"dataframe\">\n",
       "  <thead>\n",
       "    <tr style=\"text-align: right;\">\n",
       "      <th></th>\n",
       "      <th>index</th>\n",
       "      <th>REGION</th>\n",
       "      <th>TENURE</th>\n",
       "      <th>MONTANT</th>\n",
       "      <th>FREQUENCE_RECH</th>\n",
       "      <th>REVENUE</th>\n",
       "      <th>ARPU_SEGMENT</th>\n",
       "      <th>FREQUENCE</th>\n",
       "      <th>DATA_VOLUME</th>\n",
       "      <th>ON_NET</th>\n",
       "      <th>...</th>\n",
       "      <th>REGION_KAOLACK</th>\n",
       "      <th>REGION_KEDOUGOU</th>\n",
       "      <th>REGION_KOLDA</th>\n",
       "      <th>REGION_LOUGA</th>\n",
       "      <th>REGION_MATAM</th>\n",
       "      <th>REGION_SAINT-LOUIS</th>\n",
       "      <th>REGION_SEDHIOU</th>\n",
       "      <th>REGION_TAMBACOUNDA</th>\n",
       "      <th>REGION_THIES</th>\n",
       "      <th>REGION_ZIGUINCHOR</th>\n",
       "    </tr>\n",
       "  </thead>\n",
       "  <tbody>\n",
       "    <tr>\n",
       "      <th>0</th>\n",
       "      <td>0</td>\n",
       "      <td>FATICK</td>\n",
       "      <td>7</td>\n",
       "      <td>4250.0</td>\n",
       "      <td>15.0</td>\n",
       "      <td>4251.0</td>\n",
       "      <td>1417.0</td>\n",
       "      <td>17.0</td>\n",
       "      <td>4.0</td>\n",
       "      <td>388.0</td>\n",
       "      <td>...</td>\n",
       "      <td>0.0</td>\n",
       "      <td>0.0</td>\n",
       "      <td>0.0</td>\n",
       "      <td>0.0</td>\n",
       "      <td>0.0</td>\n",
       "      <td>0.0</td>\n",
       "      <td>0.0</td>\n",
       "      <td>0.0</td>\n",
       "      <td>0.0</td>\n",
       "      <td>0.0</td>\n",
       "    </tr>\n",
       "    <tr>\n",
       "      <th>1</th>\n",
       "      <td>3</td>\n",
       "      <td>DAKAR</td>\n",
       "      <td>7</td>\n",
       "      <td>13500.0</td>\n",
       "      <td>15.0</td>\n",
       "      <td>13502.0</td>\n",
       "      <td>4501.0</td>\n",
       "      <td>18.0</td>\n",
       "      <td>43804.0</td>\n",
       "      <td>41.0</td>\n",
       "      <td>...</td>\n",
       "      <td>0.0</td>\n",
       "      <td>0.0</td>\n",
       "      <td>0.0</td>\n",
       "      <td>0.0</td>\n",
       "      <td>0.0</td>\n",
       "      <td>0.0</td>\n",
       "      <td>0.0</td>\n",
       "      <td>0.0</td>\n",
       "      <td>0.0</td>\n",
       "      <td>0.0</td>\n",
       "    </tr>\n",
       "    <tr>\n",
       "      <th>2</th>\n",
       "      <td>7</td>\n",
       "      <td>DAKAR</td>\n",
       "      <td>7</td>\n",
       "      <td>7000.0</td>\n",
       "      <td>16.0</td>\n",
       "      <td>7229.0</td>\n",
       "      <td>2410.0</td>\n",
       "      <td>22.0</td>\n",
       "      <td>1601.0</td>\n",
       "      <td>77.0</td>\n",
       "      <td>...</td>\n",
       "      <td>0.0</td>\n",
       "      <td>0.0</td>\n",
       "      <td>0.0</td>\n",
       "      <td>0.0</td>\n",
       "      <td>0.0</td>\n",
       "      <td>0.0</td>\n",
       "      <td>0.0</td>\n",
       "      <td>0.0</td>\n",
       "      <td>0.0</td>\n",
       "      <td>0.0</td>\n",
       "    </tr>\n",
       "    <tr>\n",
       "      <th>3</th>\n",
       "      <td>11</td>\n",
       "      <td>KAOLACK</td>\n",
       "      <td>7</td>\n",
       "      <td>12650.0</td>\n",
       "      <td>27.0</td>\n",
       "      <td>11870.0</td>\n",
       "      <td>3957.0</td>\n",
       "      <td>36.0</td>\n",
       "      <td>8453.0</td>\n",
       "      <td>431.0</td>\n",
       "      <td>...</td>\n",
       "      <td>1.0</td>\n",
       "      <td>0.0</td>\n",
       "      <td>0.0</td>\n",
       "      <td>0.0</td>\n",
       "      <td>0.0</td>\n",
       "      <td>0.0</td>\n",
       "      <td>0.0</td>\n",
       "      <td>0.0</td>\n",
       "      <td>0.0</td>\n",
       "      <td>0.0</td>\n",
       "    </tr>\n",
       "    <tr>\n",
       "      <th>4</th>\n",
       "      <td>18</td>\n",
       "      <td>DAKAR</td>\n",
       "      <td>7</td>\n",
       "      <td>7600.0</td>\n",
       "      <td>46.0</td>\n",
       "      <td>7875.0</td>\n",
       "      <td>2625.0</td>\n",
       "      <td>57.0</td>\n",
       "      <td>901.0</td>\n",
       "      <td>10.0</td>\n",
       "      <td>...</td>\n",
       "      <td>0.0</td>\n",
       "      <td>0.0</td>\n",
       "      <td>0.0</td>\n",
       "      <td>0.0</td>\n",
       "      <td>0.0</td>\n",
       "      <td>0.0</td>\n",
       "      <td>0.0</td>\n",
       "      <td>0.0</td>\n",
       "      <td>0.0</td>\n",
       "      <td>0.0</td>\n",
       "    </tr>\n",
       "  </tbody>\n",
       "</table>\n",
       "<p>5 rows × 31 columns</p>\n",
       "</div>"
      ],
      "text/plain": [
       "   index   REGION  TENURE  MONTANT  FREQUENCE_RECH  REVENUE  ARPU_SEGMENT  \\\n",
       "0      0   FATICK       7   4250.0            15.0   4251.0        1417.0   \n",
       "1      3    DAKAR       7  13500.0            15.0  13502.0        4501.0   \n",
       "2      7    DAKAR       7   7000.0            16.0   7229.0        2410.0   \n",
       "3     11  KAOLACK       7  12650.0            27.0  11870.0        3957.0   \n",
       "4     18    DAKAR       7   7600.0            46.0   7875.0        2625.0   \n",
       "\n",
       "   FREQUENCE  DATA_VOLUME  ON_NET  ...  REGION_KAOLACK  REGION_KEDOUGOU  \\\n",
       "0       17.0          4.0   388.0  ...             0.0              0.0   \n",
       "1       18.0      43804.0    41.0  ...             0.0              0.0   \n",
       "2       22.0       1601.0    77.0  ...             0.0              0.0   \n",
       "3       36.0       8453.0   431.0  ...             1.0              0.0   \n",
       "4       57.0        901.0    10.0  ...             0.0              0.0   \n",
       "\n",
       "   REGION_KOLDA  REGION_LOUGA  REGION_MATAM  REGION_SAINT-LOUIS  \\\n",
       "0           0.0           0.0           0.0                 0.0   \n",
       "1           0.0           0.0           0.0                 0.0   \n",
       "2           0.0           0.0           0.0                 0.0   \n",
       "3           0.0           0.0           0.0                 0.0   \n",
       "4           0.0           0.0           0.0                 0.0   \n",
       "\n",
       "   REGION_SEDHIOU  REGION_TAMBACOUNDA  REGION_THIES  REGION_ZIGUINCHOR  \n",
       "0             0.0                 0.0           0.0                0.0  \n",
       "1             0.0                 0.0           0.0                0.0  \n",
       "2             0.0                 0.0           0.0                0.0  \n",
       "3             0.0                 0.0           0.0                0.0  \n",
       "4             0.0                 0.0           0.0                0.0  \n",
       "\n",
       "[5 rows x 31 columns]"
      ]
     },
     "execution_count": 176,
     "metadata": {},
     "output_type": "execute_result"
    }
   ],
   "source": [
    "df.head()"
   ]
  },
  {
   "cell_type": "code",
   "execution_count": 136,
   "metadata": {},
   "outputs": [
    {
     "data": {
      "text/plain": [
       "<Axes: >"
      ]
     },
     "execution_count": 136,
     "metadata": {},
     "output_type": "execute_result"
    },
    {
     "data": {
      "image/png": "[encoded data removed]",
      "text/plain": [
       "<Figure size 3000x1500 with 1 Axes>"
      ]
     },
     "metadata": {},
     "output_type": "display_data"
    }
   ],
   "source": [
    "columns=[  'MONTANT', 'FREQUENCE_RECH', 'REVENUE',\n",
    "       'ARPU_SEGMENT', 'FREQUENCE', 'DATA_VOLUME', 'ON_NET', 'ORANGE', 'TIGO',\n",
    "       'REGULARITY', 'TOP_PACK', 'FREQ_TOP_PACK', 'CHURN']\n",
    "\n",
    "plt.figure(figsize=(30,15))\n",
    "\n",
    "df[['MONTANT', 'FREQUENCE_RECH', 'REVENUE',\n",
    "       'ARPU_SEGMENT', 'FREQUENCE', 'DATA_VOLUME', 'ON_NET', 'ORANGE', 'TIGO',\n",
    "       'REGULARITY', 'TOP_PACK', 'FREQ_TOP_PACK', 'CHURN']].boxplot()\n",
    "    "
   ]
  },
  {
   "cell_type": "code",
   "execution_count": 199,
   "metadata": {},
   "outputs": [
    {
     "data": {
      "text/plain": [
       "{'whiskers': [<matplotlib.lines.Line2D at 0x17d3303ad20>,\n",
       "  <matplotlib.lines.Line2D at 0x17d3303b020>],\n",
       " 'caps': [<matplotlib.lines.Line2D at 0x17d3303b2f0>,\n",
       "  <matplotlib.lines.Line2D at 0x17d3303b5c0>],\n",
       " 'boxes': [<matplotlib.lines.Line2D at 0x17d3303aa50>],\n",
       " 'medians': [<matplotlib.lines.Line2D at 0x17d3303b860>],\n",
       " 'fliers': [<matplotlib.lines.Line2D at 0x17d3303bb00>],\n",
       " 'means': []}"
      ]
     },
     "execution_count": 199,
     "metadata": {},
     "output_type": "execute_result"
    },
    {
     "data": {
      "image/png": "[encoded data removed]",
      "text/plain": [
       "<Figure size 640x480 with 1 Axes>"
      ]
     },
     "metadata": {},
     "output_type": "display_data"
    }
   ],
   "source": [
    "plt.boxplot(df['MONTANT'])"
   ]
  },
  {
   "cell_type": "code",
   "execution_count": 196,
   "metadata": {},
   "outputs": [],
   "source": [
    "df=df[df['MONTANT']<105000]"
   ]
  },
  {
   "cell_type": "code",
   "execution_count": 197,
   "metadata": {},
   "outputs": [
    {
     "data": {
      "text/plain": [
       "(436245, 31)"
      ]
     },
     "execution_count": 197,
     "metadata": {},
     "output_type": "execute_result"
    }
   ],
   "source": [
    "df.shape"
   ]
  },
  {
   "cell_type": "code",
   "execution_count": 200,
   "metadata": {},
   "outputs": [
    {
     "data": {
      "text/plain": [
       "{'whiskers': [<matplotlib.lines.Line2D at 0x17dcdcdcb60>,\n",
       "  <matplotlib.lines.Line2D at 0x17dcdcdce00>],\n",
       " 'caps': [<matplotlib.lines.Line2D at 0x17dcdcdd070>,\n",
       "  <matplotlib.lines.Line2D at 0x17dcdcdd2e0>],\n",
       " 'boxes': [<matplotlib.lines.Line2D at 0x17d608edcd0>],\n",
       " 'medians': [<matplotlib.lines.Line2D at 0x17dcdcdd550>],\n",
       " 'fliers': [<matplotlib.lines.Line2D at 0x17dcdcdd7c0>],\n",
       " 'means': []}"
      ]
     },
     "execution_count": 200,
     "metadata": {},
     "output_type": "execute_result"
    },
    {
     "data": {
      "image/png": "[encoded data removed]",
      "text/plain": [
       "<Figure size 640x480 with 1 Axes>"
      ]
     },
     "metadata": {},
     "output_type": "display_data"
    }
   ],
   "source": [
    "plt.boxplot(df['REVENUE'])"
   ]
  },
  {
   "cell_type": "code",
   "execution_count": 201,
   "metadata": {},
   "outputs": [],
   "source": [
    "df=df[df['REVENUE']<100000]"
   ]
  },
  {
   "cell_type": "code",
   "execution_count": 202,
   "metadata": {},
   "outputs": [
    {
     "data": {
      "text/plain": [
       "(436233, 31)"
      ]
     },
     "execution_count": 202,
     "metadata": {},
     "output_type": "execute_result"
    }
   ],
   "source": [
    "df.shape"
   ]
  },
  {
   "cell_type": "code",
   "execution_count": 203,
   "metadata": {},
   "outputs": [
    {
     "data": {
      "text/plain": [
       "{'whiskers': [<matplotlib.lines.Line2D at 0x17dcdcaa480>,\n",
       "  <matplotlib.lines.Line2D at 0x17dcdcaa720>],\n",
       " 'caps': [<matplotlib.lines.Line2D at 0x17dcdcaa9c0>,\n",
       "  <matplotlib.lines.Line2D at 0x17dcdcaacc0>],\n",
       " 'boxes': [<matplotlib.lines.Line2D at 0x17dcdcaa1e0>],\n",
       " 'medians': [<matplotlib.lines.Line2D at 0x17dcdcaafc0>],\n",
       " 'fliers': [<matplotlib.lines.Line2D at 0x17dcdcab2c0>],\n",
       " 'means': []}"
      ]
     },
     "execution_count": 203,
     "metadata": {},
     "output_type": "execute_result"
    },
    {
     "data": {
      "image/png": "[encoded data removed]",
      "text/plain": [
       "<Figure size 640x480 with 1 Axes>"
      ]
     },
     "metadata": {},
     "output_type": "display_data"
    }
   ],
   "source": [
    "plt.boxplot(df['ARPU_SEGMENT'])"
   ]
  },
  {
   "cell_type": "code",
   "execution_count": 184,
   "metadata": {},
   "outputs": [],
   "source": [
    "df=df[df['ARPU_SEGMENT']<35000]\n"
   ]
  },
  {
   "cell_type": "code",
   "execution_count": 185,
   "metadata": {},
   "outputs": [
    {
     "data": {
      "text/plain": [
       "(436308, 31)"
      ]
     },
     "execution_count": 185,
     "metadata": {},
     "output_type": "execute_result"
    }
   ],
   "source": [
    "df.shape"
   ]
  },
  {
   "cell_type": "code",
   "execution_count": 204,
   "metadata": {},
   "outputs": [
    {
     "data": {
      "text/plain": [
       "{'whiskers': [<matplotlib.lines.Line2D at 0x17dcdc290a0>,\n",
       "  <matplotlib.lines.Line2D at 0x17dcdc29340>],\n",
       " 'caps': [<matplotlib.lines.Line2D at 0x17dcdc295e0>,\n",
       "  <matplotlib.lines.Line2D at 0x17dcdc298e0>],\n",
       " 'boxes': [<matplotlib.lines.Line2D at 0x17dcdc28da0>],\n",
       " 'medians': [<matplotlib.lines.Line2D at 0x17dcdc29b50>],\n",
       " 'fliers': [<matplotlib.lines.Line2D at 0x17dcdc29e20>],\n",
       " 'means': []}"
      ]
     },
     "execution_count": 204,
     "metadata": {},
     "output_type": "execute_result"
    },
    {
     "data": {
      "image/png": "[encoded data removed]",
      "text/plain": [
       "<Figure size 640x480 with 1 Axes>"
      ]
     },
     "metadata": {},
     "output_type": "display_data"
    }
   ],
   "source": [
    "plt.boxplot(df['DATA_VOLUME'])"
   ]
  },
  {
   "cell_type": "code",
   "execution_count": 205,
   "metadata": {},
   "outputs": [],
   "source": [
    "df=df[df['DATA_VOLUME']<150000]"
   ]
  },
  {
   "cell_type": "code",
   "execution_count": 206,
   "metadata": {},
   "outputs": [
    {
     "data": {
      "text/plain": [
       "(436173, 31)"
      ]
     },
     "execution_count": 206,
     "metadata": {},
     "output_type": "execute_result"
    }
   ],
   "source": [
    "df.shape"
   ]
  },
  {
   "cell_type": "code",
   "execution_count": 189,
   "metadata": {},
   "outputs": [
    {
     "data": {
      "text/plain": [
       "{'whiskers': [<matplotlib.lines.Line2D at 0x17d6af5ab40>,\n",
       "  <matplotlib.lines.Line2D at 0x17d6af5bd70>],\n",
       " 'caps': [<matplotlib.lines.Line2D at 0x17d81c94050>,\n",
       "  <matplotlib.lines.Line2D at 0x17d81c942f0>],\n",
       " 'boxes': [<matplotlib.lines.Line2D at 0x17d6af2e2a0>],\n",
       " 'medians': [<matplotlib.lines.Line2D at 0x17d81c945c0>],\n",
       " 'fliers': [<matplotlib.lines.Line2D at 0x17d81c94890>],\n",
       " 'means': []}"
      ]
     },
     "execution_count": 189,
     "metadata": {},
     "output_type": "execute_result"
    },
    {
     "data": {
      "image/png": "[encoded data removed]",
      "text/plain": [
       "<Figure size 640x480 with 1 Axes>"
      ]
     },
     "metadata": {},
     "output_type": "display_data"
    }
   ],
   "source": [
    "plt.boxplot(df['ON_NET'])"
   ]
  },
  {
   "cell_type": "code",
   "execution_count": 192,
   "metadata": {},
   "outputs": [],
   "source": [
    "df=df[df['ON_NET']<20000]"
   ]
  },
  {
   "cell_type": "code",
   "execution_count": 193,
   "metadata": {},
   "outputs": [
    {
     "data": {
      "text/plain": [
       "(436252, 31)"
      ]
     },
     "execution_count": 193,
     "metadata": {},
     "output_type": "execute_result"
    }
   ],
   "source": [
    "df.shape"
   ]
  },
  {
   "cell_type": "code",
   "execution_count": 207,
   "metadata": {},
   "outputs": [
    {
     "data": {
      "text/plain": [
       "<Axes: >"
      ]
     },
     "execution_count": 207,
     "metadata": {},
     "output_type": "execute_result"
    },
    {
     "data": {
      "image/png": "[encoded data removed]",
      "text/plain": [
       "<Figure size 3000x1500 with 1 Axes>"
      ]
     },
     "metadata": {},
     "output_type": "display_data"
    }
   ],
   "source": [
    "plt.figure(figsize=(30,15))\n",
    "\n",
    "df[['MONTANT', 'REVENUE',\n",
    "       'ARPU_SEGMENT', 'DATA_VOLUME', 'ON_NET']].boxplot()"
   ]
  },
  {
   "cell_type": "code",
   "execution_count": 208,
   "metadata": {},
   "outputs": [
    {
     "data": {
      "text/plain": [
       "Index(['index', 'REGION', 'TENURE', 'MONTANT', 'FREQUENCE_RECH', 'REVENUE',\n",
       "       'ARPU_SEGMENT', 'FREQUENCE', 'DATA_VOLUME', 'ON_NET', 'ORANGE', 'TIGO',\n",
       "       'REGULARITY', 'TOP_PACK', 'FREQ_TOP_PACK', 'CHURN', 'index',\n",
       "       'REGION_DAKAR', 'REGION_DIOURBEL', 'REGION_FATICK', 'REGION_KAFFRINE',\n",
       "       'REGION_KAOLACK', 'REGION_KEDOUGOU', 'REGION_KOLDA', 'REGION_LOUGA',\n",
       "       'REGION_MATAM', 'REGION_SAINT-LOUIS', 'REGION_SEDHIOU',\n",
       "       'REGION_TAMBACOUNDA', 'REGION_THIES', 'REGION_ZIGUINCHOR'],\n",
       "      dtype='object')"
      ]
     },
     "execution_count": 208,
     "metadata": {},
     "output_type": "execute_result"
    }
   ],
   "source": [
    "df.columns\n"
   ]
  },
  {
   "cell_type": "code",
   "execution_count": 240,
   "metadata": {},
   "outputs": [
    {
     "data": {
      "text/html": [
       "<div>\n",
       "<style scoped>\n",
       "    .dataframe tbody tr th:only-of-type {\n",
       "        vertical-align: middle;\n",
       "    }\n",
       "\n",
       "    .dataframe tbody tr th {\n",
       "        vertical-align: top;\n",
       "    }\n",
       "\n",
       "    .dataframe thead th {\n",
       "        text-align: right;\n",
       "    }\n",
       "</style>\n",
       "<table border=\"1\" class=\"dataframe\">\n",
       "  <thead>\n",
       "    <tr style=\"text-align: right;\">\n",
       "      <th></th>\n",
       "      <th>index</th>\n",
       "      <th>REGION</th>\n",
       "      <th>TENURE</th>\n",
       "      <th>MONTANT</th>\n",
       "      <th>FREQUENCE_RECH</th>\n",
       "      <th>REVENUE</th>\n",
       "      <th>ARPU_SEGMENT</th>\n",
       "      <th>FREQUENCE</th>\n",
       "      <th>DATA_VOLUME</th>\n",
       "      <th>ON_NET</th>\n",
       "      <th>...</th>\n",
       "      <th>REGION_KAOLACK</th>\n",
       "      <th>REGION_KEDOUGOU</th>\n",
       "      <th>REGION_KOLDA</th>\n",
       "      <th>REGION_LOUGA</th>\n",
       "      <th>REGION_MATAM</th>\n",
       "      <th>REGION_SAINT-LOUIS</th>\n",
       "      <th>REGION_SEDHIOU</th>\n",
       "      <th>REGION_TAMBACOUNDA</th>\n",
       "      <th>REGION_THIES</th>\n",
       "      <th>REGION_ZIGUINCHOR</th>\n",
       "    </tr>\n",
       "  </thead>\n",
       "  <tbody>\n",
       "    <tr>\n",
       "      <th>0</th>\n",
       "      <td>0</td>\n",
       "      <td>FATICK</td>\n",
       "      <td>7</td>\n",
       "      <td>4250.0</td>\n",
       "      <td>15.0</td>\n",
       "      <td>4251.0</td>\n",
       "      <td>1417.0</td>\n",
       "      <td>17.0</td>\n",
       "      <td>4.0</td>\n",
       "      <td>388.0</td>\n",
       "      <td>...</td>\n",
       "      <td>0.0</td>\n",
       "      <td>0.0</td>\n",
       "      <td>0.0</td>\n",
       "      <td>0.0</td>\n",
       "      <td>0.0</td>\n",
       "      <td>0.0</td>\n",
       "      <td>0.0</td>\n",
       "      <td>0.0</td>\n",
       "      <td>0.0</td>\n",
       "      <td>0.0</td>\n",
       "    </tr>\n",
       "    <tr>\n",
       "      <th>1</th>\n",
       "      <td>3</td>\n",
       "      <td>DAKAR</td>\n",
       "      <td>7</td>\n",
       "      <td>13500.0</td>\n",
       "      <td>15.0</td>\n",
       "      <td>13502.0</td>\n",
       "      <td>4501.0</td>\n",
       "      <td>18.0</td>\n",
       "      <td>43804.0</td>\n",
       "      <td>41.0</td>\n",
       "      <td>...</td>\n",
       "      <td>0.0</td>\n",
       "      <td>0.0</td>\n",
       "      <td>0.0</td>\n",
       "      <td>0.0</td>\n",
       "      <td>0.0</td>\n",
       "      <td>0.0</td>\n",
       "      <td>0.0</td>\n",
       "      <td>0.0</td>\n",
       "      <td>0.0</td>\n",
       "      <td>0.0</td>\n",
       "    </tr>\n",
       "    <tr>\n",
       "      <th>2</th>\n",
       "      <td>7</td>\n",
       "      <td>DAKAR</td>\n",
       "      <td>7</td>\n",
       "      <td>7000.0</td>\n",
       "      <td>16.0</td>\n",
       "      <td>7229.0</td>\n",
       "      <td>2410.0</td>\n",
       "      <td>22.0</td>\n",
       "      <td>1601.0</td>\n",
       "      <td>77.0</td>\n",
       "      <td>...</td>\n",
       "      <td>0.0</td>\n",
       "      <td>0.0</td>\n",
       "      <td>0.0</td>\n",
       "      <td>0.0</td>\n",
       "      <td>0.0</td>\n",
       "      <td>0.0</td>\n",
       "      <td>0.0</td>\n",
       "      <td>0.0</td>\n",
       "      <td>0.0</td>\n",
       "      <td>0.0</td>\n",
       "    </tr>\n",
       "    <tr>\n",
       "      <th>3</th>\n",
       "      <td>11</td>\n",
       "      <td>KAOLACK</td>\n",
       "      <td>7</td>\n",
       "      <td>12650.0</td>\n",
       "      <td>27.0</td>\n",
       "      <td>11870.0</td>\n",
       "      <td>3957.0</td>\n",
       "      <td>36.0</td>\n",
       "      <td>8453.0</td>\n",
       "      <td>431.0</td>\n",
       "      <td>...</td>\n",
       "      <td>1.0</td>\n",
       "      <td>0.0</td>\n",
       "      <td>0.0</td>\n",
       "      <td>0.0</td>\n",
       "      <td>0.0</td>\n",
       "      <td>0.0</td>\n",
       "      <td>0.0</td>\n",
       "      <td>0.0</td>\n",
       "      <td>0.0</td>\n",
       "      <td>0.0</td>\n",
       "    </tr>\n",
       "    <tr>\n",
       "      <th>4</th>\n",
       "      <td>18</td>\n",
       "      <td>DAKAR</td>\n",
       "      <td>7</td>\n",
       "      <td>7600.0</td>\n",
       "      <td>46.0</td>\n",
       "      <td>7875.0</td>\n",
       "      <td>2625.0</td>\n",
       "      <td>57.0</td>\n",
       "      <td>901.0</td>\n",
       "      <td>10.0</td>\n",
       "      <td>...</td>\n",
       "      <td>0.0</td>\n",
       "      <td>0.0</td>\n",
       "      <td>0.0</td>\n",
       "      <td>0.0</td>\n",
       "      <td>0.0</td>\n",
       "      <td>0.0</td>\n",
       "      <td>0.0</td>\n",
       "      <td>0.0</td>\n",
       "      <td>0.0</td>\n",
       "      <td>0.0</td>\n",
       "    </tr>\n",
       "    <tr>\n",
       "      <th>...</th>\n",
       "      <td>...</td>\n",
       "      <td>...</td>\n",
       "      <td>...</td>\n",
       "      <td>...</td>\n",
       "      <td>...</td>\n",
       "      <td>...</td>\n",
       "      <td>...</td>\n",
       "      <td>...</td>\n",
       "      <td>...</td>\n",
       "      <td>...</td>\n",
       "      <td>...</td>\n",
       "      <td>...</td>\n",
       "      <td>...</td>\n",
       "      <td>...</td>\n",
       "      <td>...</td>\n",
       "      <td>...</td>\n",
       "      <td>...</td>\n",
       "      <td>...</td>\n",
       "      <td>...</td>\n",
       "      <td>...</td>\n",
       "      <td>...</td>\n",
       "    </tr>\n",
       "    <tr>\n",
       "      <th>436168</th>\n",
       "      <td>2154020</td>\n",
       "      <td>DAKAR</td>\n",
       "      <td>7</td>\n",
       "      <td>11000.0</td>\n",
       "      <td>25.0</td>\n",
       "      <td>10882.0</td>\n",
       "      <td>3627.0</td>\n",
       "      <td>28.0</td>\n",
       "      <td>32955.0</td>\n",
       "      <td>2.0</td>\n",
       "      <td>...</td>\n",
       "      <td>0.0</td>\n",
       "      <td>0.0</td>\n",
       "      <td>0.0</td>\n",
       "      <td>0.0</td>\n",
       "      <td>0.0</td>\n",
       "      <td>0.0</td>\n",
       "      <td>0.0</td>\n",
       "      <td>0.0</td>\n",
       "      <td>0.0</td>\n",
       "      <td>0.0</td>\n",
       "    </tr>\n",
       "    <tr>\n",
       "      <th>436169</th>\n",
       "      <td>2154023</td>\n",
       "      <td>LOUGA</td>\n",
       "      <td>7</td>\n",
       "      <td>7250.0</td>\n",
       "      <td>25.0</td>\n",
       "      <td>7062.0</td>\n",
       "      <td>2354.0</td>\n",
       "      <td>25.0</td>\n",
       "      <td>609.0</td>\n",
       "      <td>1524.0</td>\n",
       "      <td>...</td>\n",
       "      <td>0.0</td>\n",
       "      <td>0.0</td>\n",
       "      <td>0.0</td>\n",
       "      <td>1.0</td>\n",
       "      <td>0.0</td>\n",
       "      <td>0.0</td>\n",
       "      <td>0.0</td>\n",
       "      <td>0.0</td>\n",
       "      <td>0.0</td>\n",
       "      <td>0.0</td>\n",
       "    </tr>\n",
       "    <tr>\n",
       "      <th>436170</th>\n",
       "      <td>2154030</td>\n",
       "      <td>DAKAR</td>\n",
       "      <td>7</td>\n",
       "      <td>5600.0</td>\n",
       "      <td>15.0</td>\n",
       "      <td>6035.0</td>\n",
       "      <td>2012.0</td>\n",
       "      <td>24.0</td>\n",
       "      <td>7388.0</td>\n",
       "      <td>1.0</td>\n",
       "      <td>...</td>\n",
       "      <td>0.0</td>\n",
       "      <td>0.0</td>\n",
       "      <td>0.0</td>\n",
       "      <td>0.0</td>\n",
       "      <td>0.0</td>\n",
       "      <td>0.0</td>\n",
       "      <td>0.0</td>\n",
       "      <td>0.0</td>\n",
       "      <td>0.0</td>\n",
       "      <td>0.0</td>\n",
       "    </tr>\n",
       "    <tr>\n",
       "      <th>436171</th>\n",
       "      <td>2154037</td>\n",
       "      <td>THIES</td>\n",
       "      <td>7</td>\n",
       "      <td>900.0</td>\n",
       "      <td>4.0</td>\n",
       "      <td>686.0</td>\n",
       "      <td>229.0</td>\n",
       "      <td>5.0</td>\n",
       "      <td>0.0</td>\n",
       "      <td>72.0</td>\n",
       "      <td>...</td>\n",
       "      <td>0.0</td>\n",
       "      <td>0.0</td>\n",
       "      <td>0.0</td>\n",
       "      <td>0.0</td>\n",
       "      <td>0.0</td>\n",
       "      <td>0.0</td>\n",
       "      <td>0.0</td>\n",
       "      <td>0.0</td>\n",
       "      <td>1.0</td>\n",
       "      <td>0.0</td>\n",
       "    </tr>\n",
       "    <tr>\n",
       "      <th>436172</th>\n",
       "      <td>2154044</td>\n",
       "      <td>THIES</td>\n",
       "      <td>7</td>\n",
       "      <td>6100.0</td>\n",
       "      <td>15.0</td>\n",
       "      <td>5800.0</td>\n",
       "      <td>1933.0</td>\n",
       "      <td>15.0</td>\n",
       "      <td>621.0</td>\n",
       "      <td>26.0</td>\n",
       "      <td>...</td>\n",
       "      <td>0.0</td>\n",
       "      <td>0.0</td>\n",
       "      <td>0.0</td>\n",
       "      <td>0.0</td>\n",
       "      <td>0.0</td>\n",
       "      <td>0.0</td>\n",
       "      <td>0.0</td>\n",
       "      <td>0.0</td>\n",
       "      <td>1.0</td>\n",
       "      <td>0.0</td>\n",
       "    </tr>\n",
       "  </tbody>\n",
       "</table>\n",
       "<p>436173 rows × 31 columns</p>\n",
       "</div>"
      ],
      "text/plain": [
       "          index   REGION  TENURE  MONTANT  FREQUENCE_RECH  REVENUE  \\\n",
       "0             0   FATICK       7   4250.0            15.0   4251.0   \n",
       "1             3    DAKAR       7  13500.0            15.0  13502.0   \n",
       "2             7    DAKAR       7   7000.0            16.0   7229.0   \n",
       "3            11  KAOLACK       7  12650.0            27.0  11870.0   \n",
       "4            18    DAKAR       7   7600.0            46.0   7875.0   \n",
       "...         ...      ...     ...      ...             ...      ...   \n",
       "436168  2154020    DAKAR       7  11000.0            25.0  10882.0   \n",
       "436169  2154023    LOUGA       7   7250.0            25.0   7062.0   \n",
       "436170  2154030    DAKAR       7   5600.0            15.0   6035.0   \n",
       "436171  2154037    THIES       7    900.0             4.0    686.0   \n",
       "436172  2154044    THIES       7   6100.0            15.0   5800.0   \n",
       "\n",
       "        ARPU_SEGMENT  FREQUENCE  DATA_VOLUME  ON_NET  ...  REGION_KAOLACK  \\\n",
       "0             1417.0       17.0          4.0   388.0  ...             0.0   \n",
       "1             4501.0       18.0      43804.0    41.0  ...             0.0   \n",
       "2             2410.0       22.0       1601.0    77.0  ...             0.0   \n",
       "3             3957.0       36.0       8453.0   431.0  ...             1.0   \n",
       "4             2625.0       57.0        901.0    10.0  ...             0.0   \n",
       "...              ...        ...          ...     ...  ...             ...   \n",
       "436168        3627.0       28.0      32955.0     2.0  ...             0.0   \n",
       "436169        2354.0       25.0        609.0  1524.0  ...             0.0   \n",
       "436170        2012.0       24.0       7388.0     1.0  ...             0.0   \n",
       "436171         229.0        5.0          0.0    72.0  ...             0.0   \n",
       "436172        1933.0       15.0        621.0    26.0  ...             0.0   \n",
       "\n",
       "        REGION_KEDOUGOU  REGION_KOLDA  REGION_LOUGA  REGION_MATAM  \\\n",
       "0                   0.0           0.0           0.0           0.0   \n",
       "1                   0.0           0.0           0.0           0.0   \n",
       "2                   0.0           0.0           0.0           0.0   \n",
       "3                   0.0           0.0           0.0           0.0   \n",
       "4                   0.0           0.0           0.0           0.0   \n",
       "...                 ...           ...           ...           ...   \n",
       "436168              0.0           0.0           0.0           0.0   \n",
       "436169              0.0           0.0           1.0           0.0   \n",
       "436170              0.0           0.0           0.0           0.0   \n",
       "436171              0.0           0.0           0.0           0.0   \n",
       "436172              0.0           0.0           0.0           0.0   \n",
       "\n",
       "        REGION_SAINT-LOUIS  REGION_SEDHIOU  REGION_TAMBACOUNDA  REGION_THIES  \\\n",
       "0                      0.0             0.0                 0.0           0.0   \n",
       "1                      0.0             0.0                 0.0           0.0   \n",
       "2                      0.0             0.0                 0.0           0.0   \n",
       "3                      0.0             0.0                 0.0           0.0   \n",
       "4                      0.0             0.0                 0.0           0.0   \n",
       "...                    ...             ...                 ...           ...   \n",
       "436168                 0.0             0.0                 0.0           0.0   \n",
       "436169                 0.0             0.0                 0.0           0.0   \n",
       "436170                 0.0             0.0                 0.0           0.0   \n",
       "436171                 0.0             0.0                 0.0           1.0   \n",
       "436172                 0.0             0.0                 0.0           1.0   \n",
       "\n",
       "        REGION_ZIGUINCHOR  \n",
       "0                     0.0  \n",
       "1                     0.0  \n",
       "2                     0.0  \n",
       "3                     0.0  \n",
       "4                     0.0  \n",
       "...                   ...  \n",
       "436168                0.0  \n",
       "436169                0.0  \n",
       "436170                0.0  \n",
       "436171                0.0  \n",
       "436172                0.0  \n",
       "\n",
       "[436173 rows x 31 columns]"
      ]
     },
     "execution_count": 240,
     "metadata": {},
     "output_type": "execute_result"
    }
   ],
   "source": [
    "df.drop_duplicates(ignore_index=True, keep='first')"
   ]
  },
  {
   "cell_type": "code",
   "execution_count": 241,
   "metadata": {},
   "outputs": [
    {
     "data": {
      "text/plain": [
       "CHURN\n",
       "0    435009\n",
       "1      1164\n",
       "Name: count, dtype: int64"
      ]
     },
     "execution_count": 241,
     "metadata": {},
     "output_type": "execute_result"
    }
   ],
   "source": [
    "df['CHURN'].value_counts()"
   ]
  },
  {
   "cell_type": "code",
   "execution_count": 242,
   "metadata": {},
   "outputs": [],
   "source": [
    "from sklearn.utils import resample"
   ]
  },
  {
   "cell_type": "code",
   "execution_count": 243,
   "metadata": {},
   "outputs": [],
   "source": [
    "df_major=df[df['CHURN']==0]\n",
    "df_minor=df[df['CHURN']==1]"
   ]
  },
  {
   "cell_type": "code",
   "execution_count": 273,
   "metadata": {},
   "outputs": [],
   "source": [
    "df_undersampled = resample(df_major, \n",
    "                                    replace=False,    # sample without replacement\n",
    "                                    n_samples=(len(df_minor)*10), # to match minority class\n",
    "                                    random_state=123) # reproducible results"
   ]
  },
  {
   "cell_type": "code",
   "execution_count": null,
   "metadata": {},
   "outputs": [],
   "source": []
  },
  {
   "cell_type": "code",
   "execution_count": 274,
   "metadata": {},
   "outputs": [],
   "source": [
    "df_balanced = pd.concat([df_undersampled, df_minor])"
   ]
  },
  {
   "cell_type": "code",
   "execution_count": 275,
   "metadata": {},
   "outputs": [],
   "source": [
    "df_balanced = df_balanced.sample(frac=1, random_state=42).reset_index(drop=True)"
   ]
  },
  {
   "cell_type": "code",
   "execution_count": 276,
   "metadata": {},
   "outputs": [
    {
     "data": {
      "text/html": [
       "<div>\n",
       "<style scoped>\n",
       "    .dataframe tbody tr th:only-of-type {\n",
       "        vertical-align: middle;\n",
       "    }\n",
       "\n",
       "    .dataframe tbody tr th {\n",
       "        vertical-align: top;\n",
       "    }\n",
       "\n",
       "    .dataframe thead th {\n",
       "        text-align: right;\n",
       "    }\n",
       "</style>\n",
       "<table border=\"1\" class=\"dataframe\">\n",
       "  <thead>\n",
       "    <tr style=\"text-align: right;\">\n",
       "      <th></th>\n",
       "      <th>index</th>\n",
       "      <th>REGION</th>\n",
       "      <th>TENURE</th>\n",
       "      <th>MONTANT</th>\n",
       "      <th>FREQUENCE_RECH</th>\n",
       "      <th>REVENUE</th>\n",
       "      <th>ARPU_SEGMENT</th>\n",
       "      <th>FREQUENCE</th>\n",
       "      <th>DATA_VOLUME</th>\n",
       "      <th>ON_NET</th>\n",
       "      <th>...</th>\n",
       "      <th>REGION_KAOLACK</th>\n",
       "      <th>REGION_KEDOUGOU</th>\n",
       "      <th>REGION_KOLDA</th>\n",
       "      <th>REGION_LOUGA</th>\n",
       "      <th>REGION_MATAM</th>\n",
       "      <th>REGION_SAINT-LOUIS</th>\n",
       "      <th>REGION_SEDHIOU</th>\n",
       "      <th>REGION_TAMBACOUNDA</th>\n",
       "      <th>REGION_THIES</th>\n",
       "      <th>REGION_ZIGUINCHOR</th>\n",
       "    </tr>\n",
       "  </thead>\n",
       "  <tbody>\n",
       "    <tr>\n",
       "      <th>0</th>\n",
       "      <td>1323296</td>\n",
       "      <td>DAKAR</td>\n",
       "      <td>7</td>\n",
       "      <td>13200.0</td>\n",
       "      <td>38.0</td>\n",
       "      <td>13193.0</td>\n",
       "      <td>4398.0</td>\n",
       "      <td>37.0</td>\n",
       "      <td>12352.0</td>\n",
       "      <td>170.0</td>\n",
       "      <td>...</td>\n",
       "      <td>0.0</td>\n",
       "      <td>0.0</td>\n",
       "      <td>0.0</td>\n",
       "      <td>0.0</td>\n",
       "      <td>0.0</td>\n",
       "      <td>0.0</td>\n",
       "      <td>0.0</td>\n",
       "      <td>0.0</td>\n",
       "      <td>0.0</td>\n",
       "      <td>0.0</td>\n",
       "    </tr>\n",
       "    <tr>\n",
       "      <th>1</th>\n",
       "      <td>2060735</td>\n",
       "      <td>DAKAR</td>\n",
       "      <td>7</td>\n",
       "      <td>6400.0</td>\n",
       "      <td>45.0</td>\n",
       "      <td>6600.0</td>\n",
       "      <td>2200.0</td>\n",
       "      <td>46.0</td>\n",
       "      <td>5584.0</td>\n",
       "      <td>2.0</td>\n",
       "      <td>...</td>\n",
       "      <td>0.0</td>\n",
       "      <td>0.0</td>\n",
       "      <td>0.0</td>\n",
       "      <td>0.0</td>\n",
       "      <td>0.0</td>\n",
       "      <td>0.0</td>\n",
       "      <td>0.0</td>\n",
       "      <td>0.0</td>\n",
       "      <td>0.0</td>\n",
       "      <td>0.0</td>\n",
       "    </tr>\n",
       "    <tr>\n",
       "      <th>2</th>\n",
       "      <td>1834278</td>\n",
       "      <td>DAKAR</td>\n",
       "      <td>7</td>\n",
       "      <td>6450.0</td>\n",
       "      <td>8.0</td>\n",
       "      <td>7461.0</td>\n",
       "      <td>2487.0</td>\n",
       "      <td>9.0</td>\n",
       "      <td>21141.0</td>\n",
       "      <td>189.0</td>\n",
       "      <td>...</td>\n",
       "      <td>0.0</td>\n",
       "      <td>0.0</td>\n",
       "      <td>0.0</td>\n",
       "      <td>0.0</td>\n",
       "      <td>0.0</td>\n",
       "      <td>0.0</td>\n",
       "      <td>0.0</td>\n",
       "      <td>0.0</td>\n",
       "      <td>0.0</td>\n",
       "      <td>0.0</td>\n",
       "    </tr>\n",
       "    <tr>\n",
       "      <th>3</th>\n",
       "      <td>199945</td>\n",
       "      <td>DAKAR</td>\n",
       "      <td>7</td>\n",
       "      <td>3000.0</td>\n",
       "      <td>4.0</td>\n",
       "      <td>3000.0</td>\n",
       "      <td>1000.0</td>\n",
       "      <td>4.0</td>\n",
       "      <td>0.0</td>\n",
       "      <td>38.0</td>\n",
       "      <td>...</td>\n",
       "      <td>0.0</td>\n",
       "      <td>0.0</td>\n",
       "      <td>0.0</td>\n",
       "      <td>0.0</td>\n",
       "      <td>0.0</td>\n",
       "      <td>0.0</td>\n",
       "      <td>0.0</td>\n",
       "      <td>0.0</td>\n",
       "      <td>0.0</td>\n",
       "      <td>0.0</td>\n",
       "    </tr>\n",
       "    <tr>\n",
       "      <th>4</th>\n",
       "      <td>1656463</td>\n",
       "      <td>DAKAR</td>\n",
       "      <td>7</td>\n",
       "      <td>23300.0</td>\n",
       "      <td>44.0</td>\n",
       "      <td>24495.0</td>\n",
       "      <td>8165.0</td>\n",
       "      <td>48.0</td>\n",
       "      <td>24115.0</td>\n",
       "      <td>972.0</td>\n",
       "      <td>...</td>\n",
       "      <td>0.0</td>\n",
       "      <td>0.0</td>\n",
       "      <td>0.0</td>\n",
       "      <td>0.0</td>\n",
       "      <td>0.0</td>\n",
       "      <td>0.0</td>\n",
       "      <td>0.0</td>\n",
       "      <td>0.0</td>\n",
       "      <td>0.0</td>\n",
       "      <td>0.0</td>\n",
       "    </tr>\n",
       "    <tr>\n",
       "      <th>...</th>\n",
       "      <td>...</td>\n",
       "      <td>...</td>\n",
       "      <td>...</td>\n",
       "      <td>...</td>\n",
       "      <td>...</td>\n",
       "      <td>...</td>\n",
       "      <td>...</td>\n",
       "      <td>...</td>\n",
       "      <td>...</td>\n",
       "      <td>...</td>\n",
       "      <td>...</td>\n",
       "      <td>...</td>\n",
       "      <td>...</td>\n",
       "      <td>...</td>\n",
       "      <td>...</td>\n",
       "      <td>...</td>\n",
       "      <td>...</td>\n",
       "      <td>...</td>\n",
       "      <td>...</td>\n",
       "      <td>...</td>\n",
       "      <td>...</td>\n",
       "    </tr>\n",
       "    <tr>\n",
       "      <th>12799</th>\n",
       "      <td>558413</td>\n",
       "      <td>FATICK</td>\n",
       "      <td>7</td>\n",
       "      <td>8800.0</td>\n",
       "      <td>20.0</td>\n",
       "      <td>8802.0</td>\n",
       "      <td>2934.0</td>\n",
       "      <td>26.0</td>\n",
       "      <td>0.0</td>\n",
       "      <td>11.0</td>\n",
       "      <td>...</td>\n",
       "      <td>0.0</td>\n",
       "      <td>0.0</td>\n",
       "      <td>0.0</td>\n",
       "      <td>0.0</td>\n",
       "      <td>0.0</td>\n",
       "      <td>0.0</td>\n",
       "      <td>0.0</td>\n",
       "      <td>0.0</td>\n",
       "      <td>0.0</td>\n",
       "      <td>0.0</td>\n",
       "    </tr>\n",
       "    <tr>\n",
       "      <th>12800</th>\n",
       "      <td>553405</td>\n",
       "      <td>DAKAR</td>\n",
       "      <td>7</td>\n",
       "      <td>12900.0</td>\n",
       "      <td>26.0</td>\n",
       "      <td>12901.0</td>\n",
       "      <td>4300.0</td>\n",
       "      <td>34.0</td>\n",
       "      <td>25287.0</td>\n",
       "      <td>0.0</td>\n",
       "      <td>...</td>\n",
       "      <td>0.0</td>\n",
       "      <td>0.0</td>\n",
       "      <td>0.0</td>\n",
       "      <td>0.0</td>\n",
       "      <td>0.0</td>\n",
       "      <td>0.0</td>\n",
       "      <td>0.0</td>\n",
       "      <td>0.0</td>\n",
       "      <td>0.0</td>\n",
       "      <td>0.0</td>\n",
       "    </tr>\n",
       "    <tr>\n",
       "      <th>12801</th>\n",
       "      <td>48609</td>\n",
       "      <td>DAKAR</td>\n",
       "      <td>7</td>\n",
       "      <td>8350.0</td>\n",
       "      <td>17.0</td>\n",
       "      <td>8089.0</td>\n",
       "      <td>2696.0</td>\n",
       "      <td>24.0</td>\n",
       "      <td>9665.0</td>\n",
       "      <td>4.0</td>\n",
       "      <td>...</td>\n",
       "      <td>0.0</td>\n",
       "      <td>0.0</td>\n",
       "      <td>0.0</td>\n",
       "      <td>0.0</td>\n",
       "      <td>0.0</td>\n",
       "      <td>0.0</td>\n",
       "      <td>0.0</td>\n",
       "      <td>0.0</td>\n",
       "      <td>0.0</td>\n",
       "      <td>0.0</td>\n",
       "    </tr>\n",
       "    <tr>\n",
       "      <th>12802</th>\n",
       "      <td>1799402</td>\n",
       "      <td>DAKAR</td>\n",
       "      <td>7</td>\n",
       "      <td>1500.0</td>\n",
       "      <td>3.0</td>\n",
       "      <td>1500.0</td>\n",
       "      <td>500.0</td>\n",
       "      <td>2.0</td>\n",
       "      <td>238.0</td>\n",
       "      <td>0.0</td>\n",
       "      <td>...</td>\n",
       "      <td>0.0</td>\n",
       "      <td>0.0</td>\n",
       "      <td>0.0</td>\n",
       "      <td>0.0</td>\n",
       "      <td>0.0</td>\n",
       "      <td>0.0</td>\n",
       "      <td>0.0</td>\n",
       "      <td>0.0</td>\n",
       "      <td>0.0</td>\n",
       "      <td>0.0</td>\n",
       "    </tr>\n",
       "    <tr>\n",
       "      <th>12803</th>\n",
       "      <td>617235</td>\n",
       "      <td>DAKAR</td>\n",
       "      <td>7</td>\n",
       "      <td>2500.0</td>\n",
       "      <td>3.0</td>\n",
       "      <td>2500.0</td>\n",
       "      <td>833.0</td>\n",
       "      <td>4.0</td>\n",
       "      <td>1577.0</td>\n",
       "      <td>22.0</td>\n",
       "      <td>...</td>\n",
       "      <td>0.0</td>\n",
       "      <td>0.0</td>\n",
       "      <td>0.0</td>\n",
       "      <td>0.0</td>\n",
       "      <td>0.0</td>\n",
       "      <td>0.0</td>\n",
       "      <td>0.0</td>\n",
       "      <td>0.0</td>\n",
       "      <td>0.0</td>\n",
       "      <td>0.0</td>\n",
       "    </tr>\n",
       "  </tbody>\n",
       "</table>\n",
       "<p>12804 rows × 31 columns</p>\n",
       "</div>"
      ],
      "text/plain": [
       "         index  REGION  TENURE  MONTANT  FREQUENCE_RECH  REVENUE  \\\n",
       "0      1323296   DAKAR       7  13200.0            38.0  13193.0   \n",
       "1      2060735   DAKAR       7   6400.0            45.0   6600.0   \n",
       "2      1834278   DAKAR       7   6450.0             8.0   7461.0   \n",
       "3       199945   DAKAR       7   3000.0             4.0   3000.0   \n",
       "4      1656463   DAKAR       7  23300.0            44.0  24495.0   \n",
       "...        ...     ...     ...      ...             ...      ...   \n",
       "12799   558413  FATICK       7   8800.0            20.0   8802.0   \n",
       "12800   553405   DAKAR       7  12900.0            26.0  12901.0   \n",
       "12801    48609   DAKAR       7   8350.0            17.0   8089.0   \n",
       "12802  1799402   DAKAR       7   1500.0             3.0   1500.0   \n",
       "12803   617235   DAKAR       7   2500.0             3.0   2500.0   \n",
       "\n",
       "       ARPU_SEGMENT  FREQUENCE  DATA_VOLUME  ON_NET  ...  REGION_KAOLACK  \\\n",
       "0            4398.0       37.0      12352.0   170.0  ...             0.0   \n",
       "1            2200.0       46.0       5584.0     2.0  ...             0.0   \n",
       "2            2487.0        9.0      21141.0   189.0  ...             0.0   \n",
       "3            1000.0        4.0          0.0    38.0  ...             0.0   \n",
       "4            8165.0       48.0      24115.0   972.0  ...             0.0   \n",
       "...             ...        ...          ...     ...  ...             ...   \n",
       "12799        2934.0       26.0          0.0    11.0  ...             0.0   \n",
       "12800        4300.0       34.0      25287.0     0.0  ...             0.0   \n",
       "12801        2696.0       24.0       9665.0     4.0  ...             0.0   \n",
       "12802         500.0        2.0        238.0     0.0  ...             0.0   \n",
       "12803         833.0        4.0       1577.0    22.0  ...             0.0   \n",
       "\n",
       "       REGION_KEDOUGOU  REGION_KOLDA  REGION_LOUGA  REGION_MATAM  \\\n",
       "0                  0.0           0.0           0.0           0.0   \n",
       "1                  0.0           0.0           0.0           0.0   \n",
       "2                  0.0           0.0           0.0           0.0   \n",
       "3                  0.0           0.0           0.0           0.0   \n",
       "4                  0.0           0.0           0.0           0.0   \n",
       "...                ...           ...           ...           ...   \n",
       "12799              0.0           0.0           0.0           0.0   \n",
       "12800              0.0           0.0           0.0           0.0   \n",
       "12801              0.0           0.0           0.0           0.0   \n",
       "12802              0.0           0.0           0.0           0.0   \n",
       "12803              0.0           0.0           0.0           0.0   \n",
       "\n",
       "       REGION_SAINT-LOUIS  REGION_SEDHIOU  REGION_TAMBACOUNDA  REGION_THIES  \\\n",
       "0                     0.0             0.0                 0.0           0.0   \n",
       "1                     0.0             0.0                 0.0           0.0   \n",
       "2                     0.0             0.0                 0.0           0.0   \n",
       "3                     0.0             0.0                 0.0           0.0   \n",
       "4                     0.0             0.0                 0.0           0.0   \n",
       "...                   ...             ...                 ...           ...   \n",
       "12799                 0.0             0.0                 0.0           0.0   \n",
       "12800                 0.0             0.0                 0.0           0.0   \n",
       "12801                 0.0             0.0                 0.0           0.0   \n",
       "12802                 0.0             0.0                 0.0           0.0   \n",
       "12803                 0.0             0.0                 0.0           0.0   \n",
       "\n",
       "       REGION_ZIGUINCHOR  \n",
       "0                    0.0  \n",
       "1                    0.0  \n",
       "2                    0.0  \n",
       "3                    0.0  \n",
       "4                    0.0  \n",
       "...                  ...  \n",
       "12799                0.0  \n",
       "12800                0.0  \n",
       "12801                0.0  \n",
       "12802                0.0  \n",
       "12803                0.0  \n",
       "\n",
       "[12804 rows x 31 columns]"
      ]
     },
     "execution_count": 276,
     "metadata": {},
     "output_type": "execute_result"
    }
   ],
   "source": [
    "df_balanced"
   ]
  },
  {
   "cell_type": "code",
   "execution_count": null,
   "metadata": {},
   "outputs": [],
   "source": []
  },
  {
   "cell_type": "code",
   "execution_count": 308,
   "metadata": {},
   "outputs": [
    {
     "data": {
      "text/plain": [
       "CHURN\n",
       "0    11640\n",
       "1     1164\n",
       "Name: count, dtype: int64"
      ]
     },
     "execution_count": 308,
     "metadata": {},
     "output_type": "execute_result"
    }
   ],
   "source": [
    "df_balanced['CHURN'].value_counts()"
   ]
  },
  {
   "cell_type": "code",
   "execution_count": 209,
   "metadata": {},
   "outputs": [],
   "source": [
    "X = df.drop(['index','REGION','CHURN'], axis=1)\n",
    "\n",
    "y = df['CHURN']"
   ]
  },
  {
   "cell_type": "code",
   "execution_count": 278,
   "metadata": {},
   "outputs": [],
   "source": [
    "X1 = df_balanced.drop(['index','REGION','CHURN'], axis=1)\n",
    "\n",
    "y1 = df_balanced['CHURN']"
   ]
  },
  {
   "cell_type": "code",
   "execution_count": null,
   "metadata": {},
   "outputs": [],
   "source": []
  },
  {
   "cell_type": "code",
   "execution_count": 280,
   "metadata": {},
   "outputs": [
    {
     "data": {
      "text/plain": [
       "CHURN\n",
       "0    11640\n",
       "1     1164\n",
       "Name: count, dtype: int64"
      ]
     },
     "execution_count": 280,
     "metadata": {},
     "output_type": "execute_result"
    }
   ],
   "source": [
    "y1.value_counts()"
   ]
  },
  {
   "cell_type": "code",
   "execution_count": 281,
   "metadata": {},
   "outputs": [],
   "source": [
    "from imblearn.over_sampling import RandomOverSampler, SMOTE, ADASYN\n",
    "from collections import Counter"
   ]
  },
  {
   "cell_type": "code",
   "execution_count": 282,
   "metadata": {},
   "outputs": [
    {
     "name": "stdout",
     "output_type": "stream",
     "text": [
      "[(0, 11640), (1, 11579)]\n"
     ]
    }
   ],
   "source": [
    "adasyn = ADASYN(random_state=42)\n",
    "X_resampled, y_resampled = adasyn.fit_resample(X1, y1)\n",
    "print(sorted(Counter(y_resampled).items()))"
   ]
  },
  {
   "cell_type": "code",
   "execution_count": 298,
   "metadata": {},
   "outputs": [
    {
     "data": {
      "text/plain": [
       "Index(['TENURE', 'MONTANT', 'FREQUENCE_RECH', 'REVENUE', 'ARPU_SEGMENT',\n",
       "       'FREQUENCE', 'DATA_VOLUME', 'ON_NET', 'ORANGE', 'TIGO', 'REGULARITY',\n",
       "       'TOP_PACK', 'FREQ_TOP_PACK', 'REGION_DAKAR', 'REGION_DIOURBEL',\n",
       "       'REGION_FATICK', 'REGION_KAFFRINE', 'REGION_KAOLACK', 'REGION_KEDOUGOU',\n",
       "       'REGION_KOLDA', 'REGION_LOUGA', 'REGION_MATAM', 'REGION_SAINT-LOUIS',\n",
       "       'REGION_SEDHIOU', 'REGION_TAMBACOUNDA', 'REGION_THIES',\n",
       "       'REGION_ZIGUINCHOR'],\n",
       "      dtype='object')"
      ]
     },
     "execution_count": 298,
     "metadata": {},
     "output_type": "execute_result"
    }
   ],
   "source": [
    "X1.columns"
   ]
  },
  {
   "cell_type": "code",
   "execution_count": 211,
   "metadata": {},
   "outputs": [],
   "source": [
    "from sklearn.model_selection import train_test_split\n",
    "\n",
    "X_train, X_test, y_train, y_test = train_test_split(X, y, test_size = 0.25, random_state = 50)"
   ]
  },
  {
   "cell_type": "code",
   "execution_count": 283,
   "metadata": {},
   "outputs": [],
   "source": [
    "X_train1, X_test1, y_train1, y_test1 = train_test_split(X_resampled, y_resampled, test_size = 0.25, random_state = 50)"
   ]
  },
  {
   "cell_type": "code",
   "execution_count": 284,
   "metadata": {},
   "outputs": [
    {
     "data": {
      "text/plain": [
       "((17414, 27), (5805, 27))"
      ]
     },
     "execution_count": 284,
     "metadata": {},
     "output_type": "execute_result"
    }
   ],
   "source": [
    "X_train1.shape, X_test1.shape"
   ]
  },
  {
   "cell_type": "code",
   "execution_count": 213,
   "metadata": {},
   "outputs": [
    {
     "data": {
      "text/plain": [
       "TENURE                  int64\n",
       "MONTANT               float64\n",
       "FREQUENCE_RECH        float64\n",
       "REVENUE               float64\n",
       "ARPU_SEGMENT          float64\n",
       "FREQUENCE             float64\n",
       "DATA_VOLUME           float64\n",
       "ON_NET                float64\n",
       "ORANGE                float64\n",
       "TIGO                  float64\n",
       "REGULARITY              int64\n",
       "TOP_PACK                int64\n",
       "FREQ_TOP_PACK         float64\n",
       "REGION_DAKAR          float64\n",
       "REGION_DIOURBEL       float64\n",
       "REGION_FATICK         float64\n",
       "REGION_KAFFRINE       float64\n",
       "REGION_KAOLACK        float64\n",
       "REGION_KEDOUGOU       float64\n",
       "REGION_KOLDA          float64\n",
       "REGION_LOUGA          float64\n",
       "REGION_MATAM          float64\n",
       "REGION_SAINT-LOUIS    float64\n",
       "REGION_SEDHIOU        float64\n",
       "REGION_TAMBACOUNDA    float64\n",
       "REGION_THIES          float64\n",
       "REGION_ZIGUINCHOR     float64\n",
       "dtype: object"
      ]
     },
     "execution_count": 213,
     "metadata": {},
     "output_type": "execute_result"
    }
   ],
   "source": [
    "X_train.dtypes"
   ]
  },
  {
   "cell_type": "code",
   "execution_count": 214,
   "metadata": {},
   "outputs": [],
   "source": [
    "from sklearn.model_selection import GridSearchCV\n",
    "from sklearn.metrics import accuracy_score\n",
    "from sklearn.ensemble import RandomForestClassifier"
   ]
  },
  {
   "cell_type": "code",
   "execution_count": 216,
   "metadata": {},
   "outputs": [
    {
     "name": "stdout",
     "output_type": "stream",
     "text": [
      "Best parameters found:  {'criterion': 'gini', 'max_depth': 10, 'min_samples_split': 2, 'n_estimators': 50}\n",
      "Best score achieved:  0.997364953905284\n"
     ]
    }
   ],
   "source": [
    "param_grid = {\n",
    "    'criterion': ['gini'],\n",
    "    'max_depth': [10, 25, 30,40],\n",
    "    'min_samples_split': [2,5,10],\n",
    "    'n_estimators' : [10,50,100]\n",
    "}\n",
    "grid_search = GridSearchCV(estimator=RandomForestClassifier(random_state=0), param_grid=param_grid, cv=5)\n",
    "grid_search.fit(X_train, y_train)\n",
    "\n",
    "print(\"Best parameters found: \", grid_search.best_params_)\n",
    "print(\"Best score achieved: \", grid_search.best_score_)"
   ]
  },
  {
   "cell_type": "code",
   "execution_count": 288,
   "metadata": {},
   "outputs": [
    {
     "name": "stdout",
     "output_type": "stream",
     "text": [
      "Best parameters found:  {'criterion': 'gini', 'max_depth': 20, 'min_samples_split': 2, 'n_estimators': 200}\n",
      "Best score achieved:  0.9487238979118329\n"
     ]
    }
   ],
   "source": [
    "param_grid1 = {\n",
    "    'criterion': ['gini'],\n",
    "    'max_depth': [20],\n",
    "    'min_samples_split': [2],\n",
    "    'n_estimators' : [150,200]\n",
    "}\n",
    "\n",
    "\n",
    "grid_search1 = GridSearchCV(estimator=RandomForestClassifier(random_state=0), param_grid=param_grid1, cv=5, scoring='recall')\n",
    "grid_search1.fit(X_train1, y_train1)\n",
    "\n",
    "print(\"Best parameters found: \", grid_search1.best_params_)\n",
    "print(\"Best score achieved: \", grid_search1.best_score_)"
   ]
  },
  {
   "cell_type": "code",
   "execution_count": 217,
   "metadata": {},
   "outputs": [],
   "source": [
    "import joblib"
   ]
  },
  {
   "cell_type": "code",
   "execution_count": 218,
   "metadata": {},
   "outputs": [
    {
     "data": {
      "text/plain": [
       "['random_forest_model.joblib']"
      ]
     },
     "execution_count": 218,
     "metadata": {},
     "output_type": "execute_result"
    }
   ],
   "source": [
    "joblib.dump(grid_search, 'random_forest_model.joblib')"
   ]
  },
  {
   "cell_type": "code",
   "execution_count": 219,
   "metadata": {},
   "outputs": [],
   "source": [
    "loaded_model = joblib.load('random_forest_model.joblib')"
   ]
  },
  {
   "cell_type": "code",
   "execution_count": 221,
   "metadata": {},
   "outputs": [],
   "source": [
    "predict=loaded_model.predict(X_test)"
   ]
  },
  {
   "cell_type": "code",
   "execution_count": 222,
   "metadata": {},
   "outputs": [
    {
     "data": {
      "text/plain": [
       "array([0, 0, 0, ..., 0, 0, 0])"
      ]
     },
     "execution_count": 222,
     "metadata": {},
     "output_type": "execute_result"
    }
   ],
   "source": [
    "predict"
   ]
  },
  {
   "cell_type": "code",
   "execution_count": 223,
   "metadata": {},
   "outputs": [
    {
     "data": {
      "text/plain": [
       "400554    0\n",
       "9071      0\n",
       "339321    0\n",
       "141002    0\n",
       "280396    0\n",
       "         ..\n",
       "140852    0\n",
       "166760    0\n",
       "5386      0\n",
       "89601     0\n",
       "328575    0\n",
       "Name: CHURN, Length: 109044, dtype: int64"
      ]
     },
     "execution_count": 223,
     "metadata": {},
     "output_type": "execute_result"
    }
   ],
   "source": [
    "y_test"
   ]
  },
  {
   "cell_type": "code",
   "execution_count": 232,
   "metadata": {},
   "outputs": [
    {
     "data": {
      "text/plain": [
       "CHURN\n",
       "0        108742\n",
       "1           302\n",
       "Name: count, dtype: int64"
      ]
     },
     "execution_count": 232,
     "metadata": {},
     "output_type": "execute_result"
    }
   ],
   "source": [
    "Y=pd.DataFrame(y_test)\n",
    "Y.value_counts()\n"
   ]
  },
  {
   "cell_type": "code",
   "execution_count": 233,
   "metadata": {},
   "outputs": [
    {
     "data": {
      "text/plain": [
       "0\n",
       "0    109044\n",
       "Name: count, dtype: int64"
      ]
     },
     "execution_count": 233,
     "metadata": {},
     "output_type": "execute_result"
    }
   ],
   "source": [
    "P=pd.DataFrame(predict)\n",
    "P.value_counts()"
   ]
  },
  {
   "cell_type": "code",
   "execution_count": 234,
   "metadata": {},
   "outputs": [
    {
     "data": {
      "text/plain": [
       "['best_random_forest_model.joblib']"
      ]
     },
     "execution_count": 234,
     "metadata": {},
     "output_type": "execute_result"
    }
   ],
   "source": [
    "joblib.dump(grid_search.best_estimator_, 'best_random_forest_model.joblib')"
   ]
  },
  {
   "cell_type": "code",
   "execution_count": 291,
   "metadata": {},
   "outputs": [
    {
     "data": {
      "text/plain": [
       "['best_random_forest_model1.joblib']"
      ]
     },
     "execution_count": 291,
     "metadata": {},
     "output_type": "execute_result"
    }
   ],
   "source": [
    "joblib.dump(grid_search1.best_estimator_, 'best_random_forest_model1.joblib')"
   ]
  },
  {
   "cell_type": "code",
   "execution_count": 235,
   "metadata": {},
   "outputs": [],
   "source": [
    "best_model = joblib.load('best_random_forest_model.joblib')"
   ]
  },
  {
   "cell_type": "code",
   "execution_count": 236,
   "metadata": {},
   "outputs": [],
   "source": [
    "predict=best_model.predict(X_test)"
   ]
  },
  {
   "cell_type": "code",
   "execution_count": 237,
   "metadata": {},
   "outputs": [
    {
     "data": {
      "text/plain": [
       "0\n",
       "0    109044\n",
       "Name: count, dtype: int64"
      ]
     },
     "execution_count": 237,
     "metadata": {},
     "output_type": "execute_result"
    }
   ],
   "source": [
    "P=pd.DataFrame(predict)\n",
    "P.value_counts()"
   ]
  },
  {
   "cell_type": "code",
   "execution_count": 239,
   "metadata": {},
   "outputs": [
    {
     "name": "stdout",
     "output_type": "stream",
     "text": [
      "Confusion matrix\n",
      "\n",
      " [[108742      0]\n",
      " [   302      0]]\n"
     ]
    }
   ],
   "source": [
    "from sklearn.metrics import confusion_matrix\n",
    "\n",
    "cm = confusion_matrix(y_test, predict)\n",
    "\n",
    "print('Confusion matrix\\n\\n', cm)"
   ]
  },
  {
   "cell_type": "code",
   "execution_count": 289,
   "metadata": {},
   "outputs": [],
   "source": [
    "pred=grid_search1.predict(X_test1)"
   ]
  },
  {
   "cell_type": "code",
   "execution_count": 290,
   "metadata": {},
   "outputs": [
    {
     "name": "stdout",
     "output_type": "stream",
     "text": [
      "              precision    recall  f1-score   support\n",
      "\n",
      "           0       0.95      0.94      0.95      2846\n",
      "           1       0.94      0.96      0.95      2959\n",
      "\n",
      "    accuracy                           0.95      5805\n",
      "   macro avg       0.95      0.95      0.95      5805\n",
      "weighted avg       0.95      0.95      0.95      5805\n",
      "\n"
     ]
    }
   ],
   "source": [
    "from sklearn.metrics import classification_report\n",
    "\n",
    "print(classification_report(y_test1, pred))"
   ]
  },
  {
   "cell_type": "code",
   "execution_count": 292,
   "metadata": {},
   "outputs": [],
   "source": [
    "import pickle"
   ]
  },
  {
   "cell_type": "code",
   "execution_count": 295,
   "metadata": {},
   "outputs": [],
   "source": [
    "with open('le.pkl', 'wb') as file:\n",
    "    pickle.dump(le, file)"
   ]
  },
  {
   "cell_type": "code",
   "execution_count": 296,
   "metadata": {},
   "outputs": [],
   "source": [
    "with open('le2.pkl', 'wb') as file:\n",
    "    pickle.dump(le2, file)"
   ]
  },
  {
   "cell_type": "code",
   "execution_count": 297,
   "metadata": {},
   "outputs": [],
   "source": [
    "with open('Ohe.pkl', 'wb') as file:\n",
    "    pickle.dump(Ohe, file)"
   ]
  }
 ],
 "metadata": {
  "colab": {
   "provenance": []
  },
  "kernelspec": {
   "display_name": "Python 3 (ipykernel)",
   "language": "python",
   "name": "python3"
  },
  "language_info": {
   "codemirror_mode": {
    "name": "ipython",
    "version": 3
   },
   "file_extension": ".py",
   "mimetype": "text/x-python",
   "name": "python",
   "nbconvert_exporter": "python",
   "pygments_lexer": "ipython3",
   "version": "3.12.6"
  }
 },
 "nbformat": 4,
 "nbformat_minor": 4
}
